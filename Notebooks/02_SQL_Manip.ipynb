{
 "cells": [
  {
   "cell_type": "code",
   "execution_count": 1,
   "metadata": {},
   "outputs": [],
   "source": [
    "import pandas as pd\n",
    "from sqlalchemy import create_engine\n",
    "from copy import deepcopy\n",
    "\n",
    "movie_metadata = pd.read_csv('movie_metadata.csv')\n",
    "ratings = pd.read_csv('ratings.csv')\n",
    "movie_metadata['movie_title'] = movie_metadata.movie_title.str.strip()"
   ]
  },
  {
   "cell_type": "code",
   "execution_count": 2,
   "metadata": {},
   "outputs": [],
   "source": [
    "for col in ['duration','director_facebook_likes','actor_1_facebook_likes','actor_2_facebook_likes',\n",
    "            'actor_3_facebook_likes','cast_total_facebook_likes','facenumber_in_poster','budget'] :\n",
    "    movie_metadata[col] = movie_metadata[col].fillna(movie_metadata[col].median())\n",
    "for col in ['genres','content_rating','language','country','title_year','aspect_ratio'] :\n",
    "    movie_metadata[col]=movie_metadata[col].fillna('ukjent')"
   ]
  },
  {
   "cell_type": "code",
   "execution_count": 3,
   "metadata": {},
   "outputs": [],
   "source": [
    "from psycopg2 import connect\n",
    "from psycopg2.extensions import ISOLATION_LEVEL_AUTOCOMMIT\n",
    "\n",
    "params = {\n",
    "    'host': 'XXXX.XXXX.XXXX.XXXX',\n",
    "    'user': 'ubuntu',\n",
    "    'port': 5432\n",
    "}\n",
    "\n",
    "# Connect and create database, disconnect, and reconnect to the right database\n",
    "connection = connect(**params)\n",
    "connection.set_isolation_level(ISOLATION_LEVEL_AUTOCOMMIT)\n",
    "try :\n",
    "    connection.cursor().execute('DROP DATABASE movies;')\n",
    "except :\n",
    "    pass\n",
    "connection.cursor().execute('CREATE DATABASE movies;')\n",
    "connection.close()"
   ]
  },
  {
   "cell_type": "code",
   "execution_count": 4,
   "metadata": {},
   "outputs": [],
   "source": [
    "connection_string = f'postgres://ubuntu:{params[\"host\"]}@{params[\"host\"]}:{params[\"port\"]}/movies'\n",
    "engine = create_engine(connection_string)\n",
    "movie_metadata.to_sql('metadata', engine, index=False)\n",
    "ratings.to_sql('ratings', engine, index=False)"
   ]
  },
  {
   "cell_type": "code",
   "execution_count": null,
   "metadata": {},
   "outputs": [],
   "source": [
    "connection = connect(**params, dbname='movies')\n",
    "cursor = connection.cursor()\n",
    "cursor.execute(\"SELECT * FROM metadata LIMIT 1;\")\n",
    "cursor.fetchall()"
   ]
  },
  {
   "cell_type": "markdown",
   "metadata": {},
   "source": [
    "### Create a view of only the columns we want."
   ]
  },
  {
   "cell_type": "code",
   "execution_count": 4,
   "metadata": {},
   "outputs": [
    {
     "ename": "NameError",
     "evalue": "name 'cursor' is not defined",
     "output_type": "error",
     "traceback": [
      "\u001b[0;31m---------------------------------------------------------------------------\u001b[0m",
      "\u001b[0;31mNameError\u001b[0m                                 Traceback (most recent call last)",
      "\u001b[0;32m<ipython-input-4-8fccdafd9f78>\u001b[0m in \u001b[0;36m<module>\u001b[0;34m\u001b[0m\n\u001b[0;32m----> 1\u001b[0;31m cursor.execute(\"\"\"SELECT * FROM metadata\n\u001b[0m\u001b[1;32m      2\u001b[0m                 LIMIT 1;\"\"\")\n\u001b[1;32m      3\u001b[0m \u001b[0mcursor\u001b[0m\u001b[0;34m.\u001b[0m\u001b[0mfetchall\u001b[0m\u001b[0;34m(\u001b[0m\u001b[0;34m)\u001b[0m\u001b[0;34m\u001b[0m\u001b[0;34m\u001b[0m\u001b[0m\n\u001b[1;32m      4\u001b[0m cursor.execute(\"\"\"CREATE VIEW metadata_select AS\n\u001b[1;32m      5\u001b[0m                 (SELECT movie_title,\n",
      "\u001b[0;31mNameError\u001b[0m: name 'cursor' is not defined"
     ]
    }
   ],
   "source": [
    "cursor.execute(\"\"\"SELECT * FROM metadata\n",
    "                LIMIT 1;\"\"\")\n",
    "cursor.fetchall()\n",
    "cursor.execute(\"\"\"CREATE VIEW metadata_select AS\n",
    "                (SELECT movie_title,\n",
    "                duration,\n",
    "                genres,\n",
    "                content_rating,\n",
    "                language,\n",
    "                country,\n",
    "                title_year,\n",
    "                aspect_ratio,\n",
    "                director_facebook_likes,\n",
    "                actor_1_facebook_likes,\n",
    "                actor_2_facebook_likes,\n",
    "                actor_3_facebook_likes,\n",
    "                cast_total_facebook_likes,\n",
    "                facenumber_in_poster,\n",
    "                budget\n",
    "                FROM metadata);\n",
    "                \"\"\")"
   ]
  },
  {
   "cell_type": "markdown",
   "metadata": {},
   "source": [
    "### Go through each feature\n",
    "Check the distribution of them and group accordingly."
   ]
  },
  {
   "cell_type": "code",
   "execution_count": 10,
   "metadata": {},
   "outputs": [
    {
     "data": {
      "text/plain": [
       "[('R', 2118),\n",
       " ('PG-13', 1461),\n",
       " ('PG', 701),\n",
       " ('ukjent', 303),\n",
       " ('Not Rated', 116),\n",
       " ('G', 112),\n",
       " ('Unrated', 62),\n",
       " ('Approved', 55),\n",
       " ('TV-14', 30),\n",
       " ('TV-MA', 20),\n",
       " ('X', 13),\n",
       " ('TV-PG', 13),\n",
       " ('TV-G', 10),\n",
       " ('Passed', 9),\n",
       " ('NC-17', 7),\n",
       " ('GP', 6),\n",
       " ('M', 5),\n",
       " ('TV-Y7', 1),\n",
       " ('TV-Y', 1)]"
      ]
     },
     "execution_count": 10,
     "metadata": {},
     "output_type": "execute_result"
    }
   ],
   "source": [
    "cursor.execute(\"\"\"SELECT content_rating,COUNT(content_rating)\n",
    "                FROM metadata_select\n",
    "                GROUP BY content_rating\n",
    "                ORDER BY COUNT(content_rating) DESC;\"\"\")\n",
    "cursor.fetchall()"
   ]
  },
  {
   "cell_type": "code",
   "execution_count": 11,
   "metadata": {},
   "outputs": [
    {
     "data": {
      "text/plain": [
       "[('R', 2118), ('PG-13', 1461), ('PG', 701), ('andre', 651), ('G', 112)]"
      ]
     },
     "execution_count": 11,
     "metadata": {},
     "output_type": "execute_result"
    }
   ],
   "source": [
    "cursor.execute(\"\"\"UPDATE metadata SET content_rating='andre'\n",
    "                WHERE content_rating NOT IN ('R','PG-13','PG','G');\"\"\")\n",
    "cursor.execute(\"\"\"SELECT content_rating,COUNT(content_rating)\n",
    "                FROM metadata\n",
    "                GROUP BY content_rating\n",
    "                ORDER BY COUNT(content_rating) DESC;\"\"\")\n",
    "cursor.fetchall()"
   ]
  },
  {
   "cell_type": "code",
   "execution_count": 12,
   "metadata": {},
   "outputs": [
    {
     "data": {
      "text/plain": [
       "[('English', 4704),\n",
       " ('French', 73),\n",
       " ('Spanish', 40),\n",
       " ('Hindi', 28),\n",
       " ('Mandarin', 26),\n",
       " ('German', 19),\n",
       " ('Japanese', 18),\n",
       " ('ukjent', 12),\n",
       " ('Italian', 11),\n",
       " ('Cantonese', 11),\n",
       " ('Russian', 11),\n",
       " ('Korean', 8),\n",
       " ('Portuguese', 8),\n",
       " ('Swedish', 5),\n",
       " ('Danish', 5),\n",
       " ('Hebrew', 5),\n",
       " ('Arabic', 5),\n",
       " ('Polish', 4),\n",
       " ('Norwegian', 4),\n",
       " ('Dutch', 4),\n",
       " ('Persian', 4),\n",
       " ('Thai', 3),\n",
       " ('Chinese', 3),\n",
       " ('Zulu', 2),\n",
       " ('None', 2),\n",
       " ('Dari', 2),\n",
       " ('Icelandic', 2),\n",
       " ('Aboriginal', 2),\n",
       " ('Indonesian', 2),\n",
       " ('Romanian', 2),\n",
       " ('Kannada', 1),\n",
       " ('Hungarian', 1),\n",
       " ('Aramaic', 1),\n",
       " ('Slovenian', 1),\n",
       " ('Maya', 1),\n",
       " ('Bosnian', 1),\n",
       " ('Mongolian', 1),\n",
       " ('Greek', 1),\n",
       " ('Dzongkha', 1),\n",
       " ('Filipino', 1),\n",
       " ('Panjabi', 1),\n",
       " ('Vietnamese', 1),\n",
       " ('Urdu', 1),\n",
       " ('Swahili', 1),\n",
       " ('Kazakh', 1),\n",
       " ('Czech', 1),\n",
       " ('Tamil', 1),\n",
       " ('Telugu', 1)]"
      ]
     },
     "execution_count": 12,
     "metadata": {},
     "output_type": "execute_result"
    }
   ],
   "source": [
    "cursor.execute(\"\"\"SELECT language,COUNT(language)\n",
    "                FROM metadata\n",
    "                GROUP BY language\n",
    "                ORDER BY COUNT(language) DESC;\"\"\")\n",
    "cursor.fetchall()"
   ]
  },
  {
   "cell_type": "code",
   "execution_count": 13,
   "metadata": {},
   "outputs": [
    {
     "data": {
      "text/plain": [
       "[('English', 4704), ('andre', 339)]"
      ]
     },
     "execution_count": 13,
     "metadata": {},
     "output_type": "execute_result"
    }
   ],
   "source": [
    "cursor.execute(\"\"\"UPDATE metadata SET language='andre'\n",
    "                WHERE language != 'English';\"\"\")\n",
    "cursor.execute(\"\"\"SELECT language,COUNT(language)\n",
    "                FROM metadata\n",
    "                GROUP BY language\n",
    "                ORDER BY COUNT(language) DESC;\"\"\")\n",
    "cursor.fetchall()"
   ]
  },
  {
   "cell_type": "code",
   "execution_count": 14,
   "metadata": {},
   "outputs": [
    {
     "data": {
      "text/plain": [
       "[('USA', 3807),\n",
       " ('UK', 448),\n",
       " ('France', 154),\n",
       " ('Canada', 126),\n",
       " ('Germany', 97),\n",
       " ('Australia', 55),\n",
       " ('India', 34),\n",
       " ('Spain', 33),\n",
       " ('China', 30),\n",
       " ('Japan', 23),\n",
       " ('Italy', 23),\n",
       " ('Mexico', 17),\n",
       " ('Hong Kong', 17),\n",
       " ('New Zealand', 15),\n",
       " ('South Korea', 14),\n",
       " ('Ireland', 12),\n",
       " ('Denmark', 11),\n",
       " ('Russia', 11),\n",
       " ('Brazil', 8),\n",
       " ('Norway', 8),\n",
       " ('South Africa', 8),\n",
       " ('Sweden', 6),\n",
       " ('Netherlands', 5),\n",
       " ('ukjent', 5),\n",
       " ('Poland', 5),\n",
       " ('Thailand', 5),\n",
       " ('Iran', 4),\n",
       " ('Argentina', 4),\n",
       " ('Israel', 4),\n",
       " ('Romania', 4),\n",
       " ('Belgium', 4),\n",
       " ('Iceland', 3),\n",
       " ('Czech Republic', 3),\n",
       " ('West Germany', 3),\n",
       " ('Switzerland', 3),\n",
       " ('Taiwan', 2),\n",
       " ('Greece', 2),\n",
       " ('Hungary', 2),\n",
       " ('Nigeria', 1),\n",
       " ('Afghanistan', 1),\n",
       " ('Egypt', 1),\n",
       " ('Pakistan', 1),\n",
       " ('Slovenia', 1),\n",
       " ('Cameroon', 1),\n",
       " ('New Line', 1),\n",
       " ('Colombia', 1),\n",
       " ('Finland', 1),\n",
       " ('Libya', 1),\n",
       " ('Panama', 1),\n",
       " ('Bulgaria', 1),\n",
       " ('Cambodia', 1),\n",
       " ('Official site', 1),\n",
       " ('Aruba', 1),\n",
       " ('United Arab Emirates', 1),\n",
       " ('Georgia', 1),\n",
       " ('Indonesia', 1),\n",
       " ('Dominican Republic', 1),\n",
       " ('Slovakia', 1),\n",
       " ('Peru', 1),\n",
       " ('Chile', 1),\n",
       " ('Kenya', 1),\n",
       " ('Soviet Union', 1),\n",
       " ('Kyrgyzstan', 1),\n",
       " ('Bahamas', 1),\n",
       " ('Philippines', 1),\n",
       " ('Turkey', 1)]"
      ]
     },
     "execution_count": 14,
     "metadata": {},
     "output_type": "execute_result"
    }
   ],
   "source": [
    "cursor.execute(\"\"\"SELECT country,COUNT(country)\n",
    "                FROM metadata\n",
    "                GROUP BY country\n",
    "                ORDER BY COUNT(country) DESC;\"\"\")\n",
    "cursor.fetchall()"
   ]
  },
  {
   "cell_type": "code",
   "execution_count": 15,
   "metadata": {},
   "outputs": [
    {
     "data": {
      "text/plain": [
       "[('USA', 3807), ('andre', 508), ('UK', 448), ('France', 154), ('Canada', 126)]"
      ]
     },
     "execution_count": 15,
     "metadata": {},
     "output_type": "execute_result"
    }
   ],
   "source": [
    "cursor.execute(\"\"\"UPDATE metadata SET country='andre'\n",
    "                WHERE country NOT IN ('USA','UK','France','Canada');\"\"\")\n",
    "cursor.execute(\"\"\"SELECT country,COUNT(country)\n",
    "                FROM metadata\n",
    "                GROUP BY country\n",
    "                ORDER BY COUNT(country) DESC;\"\"\")\n",
    "cursor.fetchall()"
   ]
  },
  {
   "cell_type": "code",
   "execution_count": 16,
   "metadata": {},
   "outputs": [],
   "source": [
    "cursor.execute(\"\"\"SELECT ratings.critic,ratings.audience,metadata_select.*\n",
    "                FROM ratings\n",
    "                LEFT JOIN metadata_select ON ratings.movie_title=metadata_select.movie_title\"\"\")"
   ]
  },
  {
   "cell_type": "code",
   "execution_count": 17,
   "metadata": {},
   "outputs": [],
   "source": [
    "total_table = pd.DataFrame(cursor.fetchall())"
   ]
  },
  {
   "cell_type": "code",
   "execution_count": 18,
   "metadata": {},
   "outputs": [],
   "source": [
    "total_table.columns = ['critic','audience','title','runtime','genres','rating','language','country','year',\n",
    "                       'aspect_ratio','director_fb','actor_1_fb','actor_2_fb','actor_3_fb','cast_fb','post_face',\n",
    "                      'budget']"
   ]
  },
  {
   "cell_type": "markdown",
   "metadata": {},
   "source": [
    "### The 'ugh, I couldn't do that (easily) in SQL' markdown\n",
    "Fill numerical nans with median (done at start of notebook for ease's sake) <br />\n",
    "Organising years by decade/old (below) <br />\n",
    "Dealing with aspect datatype (below) <br />"
   ]
  },
  {
   "cell_type": "markdown",
   "metadata": {},
   "source": [
    "First, years and aspect ratios aren't number numbers!"
   ]
  },
  {
   "cell_type": "code",
   "execution_count": 20,
   "metadata": {},
   "outputs": [],
   "source": [
    "total_table['year'] = total_table.year.astype(str)\n",
    "total_table['aspect_ratio'] = total_table.aspect_ratio.astype(str)"
   ]
  },
  {
   "cell_type": "markdown",
   "metadata": {},
   "source": [
    "Filter out low representation aspect ratios."
   ]
  },
  {
   "cell_type": "code",
   "execution_count": 22,
   "metadata": {},
   "outputs": [],
   "source": [
    "for i in range(len(total_table)) :\n",
    "    if total_table.loc[i,'aspect_ratio'] not in ['2.35','1.85'] :\n",
    "        total_table.loc[i,'aspect_ratio'] = 'andre'"
   ]
  },
  {
   "cell_type": "markdown",
   "metadata": {},
   "source": [
    "Sort movies by decade."
   ]
  },
  {
   "cell_type": "code",
   "execution_count": 23,
   "metadata": {},
   "outputs": [],
   "source": [
    "by_decade = []\n",
    "for year in list(total_table.year) :\n",
    "    if year == 'ukjent' :\n",
    "        by_decade.append('ukjent')\n",
    "    elif int(float(year))<1970 :\n",
    "        by_decade.append('old')\n",
    "    else :\n",
    "        by_decade.append(year[2]+'0s')\n",
    "total_table['decade'] = by_decade"
   ]
  },
  {
   "cell_type": "markdown",
   "metadata": {},
   "source": [
    "Create columns for each genre."
   ]
  },
  {
   "cell_type": "code",
   "execution_count": 50,
   "metadata": {},
   "outputs": [],
   "source": [
    "genre = deepcopy(total_table)"
   ]
  },
  {
   "cell_type": "code",
   "execution_count": 51,
   "metadata": {},
   "outputs": [],
   "source": [
    "genre['genres'] = (genre\n",
    "                    .genres\n",
    "                    .str.split('|')).to_frame()"
   ]
  },
  {
   "cell_type": "code",
   "execution_count": 53,
   "metadata": {},
   "outputs": [],
   "source": [
    "each_genre = (genre\n",
    "            # create a Series of genres for each row; make these the rows in a new df\n",
    "            .apply(lambda x : pd.Series(x['genres']),axis=1)\n",
    "            #makes a multiindex object such that the multiple genres are now in one column but have the same index\n",
    "            .stack()\n",
    "            #resets the index\n",
    "            .reset_index(level=1))"
   ]
  },
  {
   "cell_type": "code",
   "execution_count": 57,
   "metadata": {},
   "outputs": [],
   "source": [
    "total_table = total_table.drop('genres',axis = 1).join(each_genre).drop('level_1',axis=1).rename(columns ={0 : 'genre'})"
   ]
  },
  {
   "cell_type": "code",
   "execution_count": 74,
   "metadata": {},
   "outputs": [],
   "source": [
    "genre_table = deepcopy(total_table)"
   ]
  },
  {
   "cell_type": "code",
   "execution_count": 75,
   "metadata": {},
   "outputs": [],
   "source": [
    "genre_table['yes'] = 1"
   ]
  },
  {
   "cell_type": "code",
   "execution_count": 78,
   "metadata": {},
   "outputs": [],
   "source": [
    "genre_table = genre_table.pivot(columns='genre',values='yes')"
   ]
  },
  {
   "cell_type": "markdown",
   "metadata": {},
   "source": [
    "Drop duplicates just in case and then save a table with critic scores and another with audience scores."
   ]
  },
  {
   "cell_type": "code",
   "execution_count": 87,
   "metadata": {},
   "outputs": [],
   "source": [
    "total_table = total_table.drop_duplicates(subset='title',keep='first').join(fear).fillna(0)"
   ]
  },
  {
   "cell_type": "code",
   "execution_count": 89,
   "metadata": {},
   "outputs": [],
   "source": [
    "critic_table = total_table.drop('audience',axis=1)"
   ]
  },
  {
   "cell_type": "code",
   "execution_count": 90,
   "metadata": {},
   "outputs": [],
   "source": [
    "audience_table = total_table.drop('critic',axis=1)"
   ]
  },
  {
   "cell_type": "code",
   "execution_count": 91,
   "metadata": {},
   "outputs": [],
   "source": [
    "critic_table.to_pickle('./critic_table.csv')"
   ]
  },
  {
   "cell_type": "code",
   "execution_count": 92,
   "metadata": {},
   "outputs": [],
   "source": [
    "audience_table.to_pickle('./audience_table.csv')"
   ]
  },
  {
   "cell_type": "code",
   "execution_count": null,
   "metadata": {},
   "outputs": [],
   "source": []
  }
 ],
 "metadata": {
  "kernelspec": {
   "display_name": "Python 3",
   "language": "python",
   "name": "python3"
  },
  "language_info": {
   "codemirror_mode": {
    "name": "ipython",
    "version": 3
   },
   "file_extension": ".py",
   "mimetype": "text/x-python",
   "name": "python",
   "nbconvert_exporter": "python",
   "pygments_lexer": "ipython3",
   "version": "3.7.1"
  }
 },
 "nbformat": 4,
 "nbformat_minor": 2
}
