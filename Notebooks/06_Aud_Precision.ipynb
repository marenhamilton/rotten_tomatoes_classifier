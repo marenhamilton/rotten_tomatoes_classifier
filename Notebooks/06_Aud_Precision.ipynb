{
 "cells": [
  {
   "cell_type": "code",
   "execution_count": 95,
   "metadata": {},
   "outputs": [],
   "source": [
    "import warnings\n",
    "warnings.filterwarnings('ignore')"
   ]
  },
  {
   "cell_type": "code",
   "execution_count": 96,
   "metadata": {},
   "outputs": [],
   "source": [
    "import pandas as pd\n",
    "import numpy as np\n",
    "np.set_printoptions(suppress=True)\n",
    "\n",
    "from sklearn.model_selection import train_test_split,cross_val_score,KFold,RandomizedSearchCV\n",
    "from sklearn.dummy import DummyClassifier\n",
    "from sklearn.metrics import confusion_matrix,precision_recall_curve,precision_score,recall_score\n",
    "from sklearn.ensemble import RandomForestClassifier,VotingClassifier\n",
    "from sklearn.svm import SVC\n",
    "from sklearn.neighbors import KNeighborsClassifier\n",
    "from sklearn.preprocessing import StandardScaler,StandardScaler\n",
    "from sklearn.linear_model import LogisticRegression\n",
    "from sklearn.naive_bayes import BernoulliNB,GaussianNB\n",
    "from mlxtend.classifier import StackingClassifier\n",
    "\n",
    "import matplotlib.pyplot as plt\n",
    "import seaborn as sns\n",
    "\n",
    "from IPython.display import clear_output"
   ]
  },
  {
   "cell_type": "markdown",
   "metadata": {},
   "source": [
    "Get rid of the decade data which, though interesting, is not mega useful for a model because you can't control that."
   ]
  },
  {
   "cell_type": "code",
   "execution_count": 97,
   "metadata": {},
   "outputs": [],
   "source": [
    "aud_table = pd.read_pickle('aud_edad.pkl')\n",
    "aud_table = aud_table.drop(['decade_old','decade_80s','decade_70s','decade_90s'],axis=1)"
   ]
  },
  {
   "cell_type": "markdown",
   "metadata": {},
   "source": [
    "Create a holdout."
   ]
  },
  {
   "cell_type": "code",
   "execution_count": 98,
   "metadata": {},
   "outputs": [],
   "source": [
    "train,test = train_test_split(aud_table,shuffle=True,test_size=.2,random_state=8)\n",
    "kf = KFold(n_splits=4,shuffle=True,random_state=8)"
   ]
  },
  {
   "cell_type": "code",
   "execution_count": 99,
   "metadata": {},
   "outputs": [],
   "source": [
    "X = train.drop(['audience'],axis=1)\n",
    "y = train['audience']"
   ]
  },
  {
   "cell_type": "markdown",
   "metadata": {},
   "source": [
    "### Check for Balance\n",
    "Now that's what I call a balanced distribution between train/test"
   ]
  },
  {
   "cell_type": "code",
   "execution_count": 6,
   "metadata": {},
   "outputs": [
    {
     "data": {
      "text/plain": [
       "0.5456595264937993"
      ]
     },
     "execution_count": 6,
     "metadata": {},
     "output_type": "execute_result"
    }
   ],
   "source": [
    "len(test[test.audience==1])/len(test)"
   ]
  },
  {
   "cell_type": "code",
   "execution_count": 7,
   "metadata": {},
   "outputs": [
    {
     "data": {
      "text/plain": [
       "0.5531435015506061"
      ]
     },
     "execution_count": 7,
     "metadata": {},
     "output_type": "execute_result"
    }
   ],
   "source": [
    "len(train[train.audience==1])/len(train)"
   ]
  },
  {
   "cell_type": "code",
   "execution_count": 8,
   "metadata": {},
   "outputs": [
    {
     "data": {
      "text/plain": [
       "0.5516463689670726"
      ]
     },
     "execution_count": 8,
     "metadata": {},
     "output_type": "execute_result"
    }
   ],
   "source": [
    "len(aud_table[aud_table.audience==1])/len(aud_table)"
   ]
  },
  {
   "cell_type": "markdown",
   "metadata": {},
   "source": [
    "### Naive classifiers to test against class-balanced data"
   ]
  },
  {
   "cell_type": "code",
   "execution_count": 9,
   "metadata": {},
   "outputs": [
    {
     "data": {
      "text/plain": [
       "0.6935433691063035"
      ]
     },
     "execution_count": 9,
     "metadata": {},
     "output_type": "execute_result"
    }
   ],
   "source": [
    "rf = RandomForestClassifier(n_estimators=100,random_state=8,max_depth=11)\n",
    "cross_val_score(rf,X,y,scoring='accuracy',cv=kf).mean()"
   ]
  },
  {
   "cell_type": "code",
   "execution_count": 10,
   "metadata": {},
   "outputs": [
    {
     "name": "stderr",
     "output_type": "stream",
     "text": [
      "/anaconda3/lib/python3.7/site-packages/sklearn/preprocessing/data.py:625: DataConversionWarning: Data with input dtype uint8, float64 were all converted to float64 by StandardScaler.\n",
      "  return self.partial_fit(X, y)\n",
      "/anaconda3/lib/python3.7/site-packages/sklearn/base.py:462: DataConversionWarning: Data with input dtype uint8, float64 were all converted to float64 by StandardScaler.\n",
      "  return self.fit(X, **fit_params).transform(X)\n"
     ]
    },
    {
     "data": {
      "text/plain": [
       "0.6698613786802599"
      ]
     },
     "execution_count": 10,
     "metadata": {},
     "output_type": "execute_result"
    }
   ],
   "source": [
    "scaler = StandardScaler()\n",
    "X_scaled = scaler.fit_transform(X)\n",
    "lr = LogisticRegression(solver='lbfgs',random_state=8)\n",
    "cross_val_score(lr,X_scaled,y,scoring='accuracy',cv=kf).mean()"
   ]
  },
  {
   "cell_type": "markdown",
   "metadata": {},
   "source": [
    "### Balanced data results\n",
    "It looks like oversampling is not the worst idea from the results of this section, so let's do it!"
   ]
  },
  {
   "cell_type": "code",
   "execution_count": 11,
   "metadata": {},
   "outputs": [
    {
     "data": {
      "text/plain": [
       "1585"
      ]
     },
     "execution_count": 11,
     "metadata": {},
     "output_type": "execute_result"
    }
   ],
   "source": [
    "len(X[y==0])"
   ]
  },
  {
   "cell_type": "code",
   "execution_count": 12,
   "metadata": {},
   "outputs": [
    {
     "data": {
      "text/plain": [
       "1962"
      ]
     },
     "execution_count": 12,
     "metadata": {},
     "output_type": "execute_result"
    }
   ],
   "source": [
    "len(X[y==1])"
   ]
  },
  {
   "cell_type": "markdown",
   "metadata": {},
   "source": [
    "Oversampling class 1."
   ]
  },
  {
   "cell_type": "code",
   "execution_count": 13,
   "metadata": {},
   "outputs": [],
   "source": [
    "from imblearn.over_sampling import SMOTE\n",
    "Xb, yb = SMOTE(random_state=8,sampling_strategy={0:1962,1:1962}).fit_sample(X,y)"
   ]
  },
  {
   "cell_type": "code",
   "execution_count": 14,
   "metadata": {},
   "outputs": [
    {
     "data": {
      "text/plain": [
       "0.7130479102956169"
      ]
     },
     "execution_count": 14,
     "metadata": {},
     "output_type": "execute_result"
    }
   ],
   "source": [
    "rf = RandomForestClassifier(n_estimators=100,random_state=8,max_depth=11)\n",
    "cross_val_score(rf,Xb,yb,scoring='accuracy',cv=kf).mean()"
   ]
  },
  {
   "cell_type": "code",
   "execution_count": 15,
   "metadata": {},
   "outputs": [
    {
     "data": {
      "text/plain": [
       "0.6758409785932722"
      ]
     },
     "execution_count": 15,
     "metadata": {},
     "output_type": "execute_result"
    }
   ],
   "source": [
    "scaler = StandardScaler()\n",
    "X_scaled = scaler.fit_transform(Xb)\n",
    "lr = LogisticRegression(solver='lbfgs',random_state=8)\n",
    "cross_val_score(lr,X_scaled,yb,scoring='accuracy',cv=kf).mean()"
   ]
  },
  {
   "cell_type": "markdown",
   "metadata": {},
   "source": [
    "Undersampling class 0."
   ]
  },
  {
   "cell_type": "code",
   "execution_count": 16,
   "metadata": {},
   "outputs": [],
   "source": [
    "from imblearn.under_sampling import RandomUnderSampler\n",
    "Xb, yb = RandomUnderSampler(random_state=42,ratio={0:1585,1:1585}).fit_sample(X,y)"
   ]
  },
  {
   "cell_type": "code",
   "execution_count": 17,
   "metadata": {},
   "outputs": [
    {
     "data": {
      "text/plain": [
       "0.6823408262957443"
      ]
     },
     "execution_count": 17,
     "metadata": {},
     "output_type": "execute_result"
    }
   ],
   "source": [
    "rf = RandomForestClassifier(n_estimators=100,random_state=8,max_depth=11)\n",
    "cross_val_score(rf,Xb,yb,scoring='accuracy',cv=kf).mean()"
   ]
  },
  {
   "cell_type": "code",
   "execution_count": 18,
   "metadata": {},
   "outputs": [
    {
     "data": {
      "text/plain": [
       "0.6675085501929764"
      ]
     },
     "execution_count": 18,
     "metadata": {},
     "output_type": "execute_result"
    }
   ],
   "source": [
    "scaler = StandardScaler()\n",
    "X_scaled = scaler.fit_transform(Xb)\n",
    "lr = LogisticRegression(solver='lbfgs',random_state=8)\n",
    "cross_val_score(lr,X_scaled,yb,scoring='accuracy',cv=kf).mean()"
   ]
  },
  {
   "cell_type": "code",
   "execution_count": 100,
   "metadata": {},
   "outputs": [],
   "source": [
    "Xb, yb = SMOTE(random_state=8,sampling_strategy={0:1962,1:1962}).fit_sample(X,y)\n",
    "Xb = pd.DataFrame(Xb)\n",
    "Xb.columns = X.columns"
   ]
  },
  {
   "cell_type": "markdown",
   "metadata": {},
   "source": [
    "# Models"
   ]
  },
  {
   "cell_type": "code",
   "execution_count": 20,
   "metadata": {},
   "outputs": [],
   "source": [
    "scaler = StandardScaler()\n",
    "X_scaled = scaler.fit_transform(Xb)"
   ]
  },
  {
   "cell_type": "markdown",
   "metadata": {},
   "source": [
    "### SVM\n",
    "I didn't run in this notebook because again, SVMs are cool but honestly the worst to actually use."
   ]
  },
  {
   "cell_type": "markdown",
   "metadata": {},
   "source": [
    "### Random Forest\n",
    "Best precision : 72% <br />\n",
    "Best recall : 72%"
   ]
  },
  {
   "cell_type": "code",
   "execution_count": 101,
   "metadata": {},
   "outputs": [],
   "source": [
    "rf_params = {'criterion':['gini','entropy'],'max_depth':list(range(1,23))}"
   ]
  },
  {
   "cell_type": "code",
   "execution_count": 23,
   "metadata": {},
   "outputs": [
    {
     "data": {
      "text/plain": [
       "{'max_depth': 15, 'criterion': 'entropy'}"
      ]
     },
     "execution_count": 23,
     "metadata": {},
     "output_type": "execute_result"
    }
   ],
   "source": [
    "rf_gridsearch = RandomForestClassifier(n_estimators=100,random_state=8)\n",
    "rando = RandomizedSearchCV(rf_gridsearch,param_distributions=rf_params,n_iter=40,scoring='precision',\n",
    "                               random_state=8,cv=kf)\n",
    "rando = rando.fit(Xb,yb)\n",
    "rando.best_params_"
   ]
  },
  {
   "cell_type": "code",
   "execution_count": 102,
   "metadata": {},
   "outputs": [
    {
     "name": "stdout",
     "output_type": "stream",
     "text": [
      "0.7191724729453812\n",
      "0.7223348402458644\n"
     ]
    }
   ],
   "source": [
    "rf = RandomForestClassifier(random_state=8,n_estimators=100,criterion='entropy',max_depth=15)\n",
    "print(cross_val_score(rf,Xb,yb,scoring='precision',cv=kf).mean())\n",
    "print(cross_val_score(rf,Xb,yb,scoring='recall',cv=kf).mean())"
   ]
  },
  {
   "cell_type": "code",
   "execution_count": 103,
   "metadata": {},
   "outputs": [
    {
     "data": {
      "text/plain": [
       "[('Sport', 0.00669392405649311),\n",
       " ('War', 0.007019951493716034),\n",
       " ('History', 0.007355352077487883),\n",
       " ('Music', 0.008248455359865004),\n",
       " ('Musical', 0.010150077889159394),\n",
       " ('language_andre', 0.010264228305952132),\n",
       " ('rating_andre', 0.010266039018903154),\n",
       " ('country_UK', 0.012783824319784878),\n",
       " ('aspect_ratio_other', 0.014156382072639771),\n",
       " ('Documentary', 0.016709315084051365),\n",
       " ('Biography', 0.019967082587254662),\n",
       " ('Horror', 0.03870344015050804),\n",
       " ('starpower', 0.07363963690548203),\n",
       " ('Drama', 0.09087625183369843),\n",
       " ('actor_1_fb', 0.09466973409687719),\n",
       " ('actor_2_fb', 0.09798076859484948),\n",
       " ('actor_3_fb', 0.09970682591551476),\n",
       " ('director_fb', 0.10755145202686918),\n",
       " ('budget', 0.12245670395039601),\n",
       " ('runtime', 0.15080055426049752)]"
      ]
     },
     "execution_count": 103,
     "metadata": {},
     "output_type": "execute_result"
    }
   ],
   "source": [
    "rf.fit(Xb,yb)\n",
    "sorted(list(zip(X.columns,rf.feature_importances_)), key = lambda x : x[1])"
   ]
  },
  {
   "cell_type": "markdown",
   "metadata": {},
   "source": [
    "As we see in the next two cells, dropping the least important feature does change things, but it increases recall instead of precision so we don't stick with this."
   ]
  },
  {
   "cell_type": "code",
   "execution_count": 25,
   "metadata": {},
   "outputs": [
    {
     "data": {
      "text/plain": [
       "{'max_depth': 16, 'criterion': 'gini'}"
      ]
     },
     "execution_count": 25,
     "metadata": {},
     "output_type": "execute_result"
    }
   ],
   "source": [
    "rf_gridsearch = RandomForestClassifier(n_estimators=100,random_state=8)\n",
    "rando = RandomizedSearchCV(rf_gridsearch,param_distributions=rf_params,n_iter=40,scoring='precision',\n",
    "                               random_state=8,cv=kf)\n",
    "rando = rando.fit(Xb.drop(['Sport'],axis=1),yb)\n",
    "rando.best_params_"
   ]
  },
  {
   "cell_type": "code",
   "execution_count": 26,
   "metadata": {},
   "outputs": [
    {
     "name": "stdout",
     "output_type": "stream",
     "text": [
      "0.7045769728705715\n",
      "0.7449059441294067\n"
     ]
    }
   ],
   "source": [
    "rf = RandomForestClassifier(random_state=8,n_estimators=100,criterion='gini',max_depth=16)\n",
    "print(cross_val_score(rf,X.drop('Sport',axis=1),y,scoring='precision',cv=kf).mean())\n",
    "print(cross_val_score(rf,X.drop('Sport',axis=1),y,scoring='recall',cv=kf).mean())"
   ]
  },
  {
   "cell_type": "markdown",
   "metadata": {},
   "source": [
    "### Moving on...\n",
    "Here I get rid of 'musical' (the 15th most important). Still little change, so we'll keep our first model."
   ]
  },
  {
   "cell_type": "code",
   "execution_count": 105,
   "metadata": {},
   "outputs": [
    {
     "data": {
      "text/plain": [
       "{'max_depth': 12, 'criterion': 'entropy'}"
      ]
     },
     "execution_count": 105,
     "metadata": {},
     "output_type": "execute_result"
    }
   ],
   "source": [
    "rf_gridsearch = RandomForestClassifier(n_estimators=100,random_state=8)\n",
    "rando = RandomizedSearchCV(rf_gridsearch,param_distributions=rf_params,n_iter=40,scoring='precision',\n",
    "                               random_state=8,cv=kf)\n",
    "rando = rando.fit(X.drop(['Musical'],axis=1),y)\n",
    "rando.best_params_"
   ]
  },
  {
   "cell_type": "code",
   "execution_count": 106,
   "metadata": {},
   "outputs": [
    {
     "name": "stdout",
     "output_type": "stream",
     "text": [
      "0.7094341720879451\n",
      "0.7490674338179024\n"
     ]
    }
   ],
   "source": [
    "rf = RandomForestClassifier(random_state=8,n_estimators=100,criterion='entropy',max_depth=17)\n",
    "print(cross_val_score(rf,X.drop(['language_andre'],axis=1),y,scoring='precision',cv=kf).mean())\n",
    "print(cross_val_score(rf,X.drop(['language_andre'],axis=1),y,scoring='recall',cv=kf).mean())"
   ]
  },
  {
   "cell_type": "markdown",
   "metadata": {},
   "source": [
    "### KNeighbours\n",
    "High precision : .86,.09\n",
    "Min recall : .75,.35"
   ]
  },
  {
   "cell_type": "code",
   "execution_count": 30,
   "metadata": {},
   "outputs": [],
   "source": [
    "knn_params = {'n_neighbors':list(range(1,1501)),'weights':['uniform','distance']}"
   ]
  },
  {
   "cell_type": "code",
   "execution_count": 34,
   "metadata": {},
   "outputs": [
    {
     "data": {
      "text/plain": [
       "{'weights': 'uniform', 'n_neighbors': 1216}"
      ]
     },
     "execution_count": 34,
     "metadata": {},
     "output_type": "execute_result"
    }
   ],
   "source": [
    "knn_gridsearch = KNeighborsClassifier()\n",
    "rando = RandomizedSearchCV(knn_gridsearch,param_distributions=knn_params,n_iter=100,scoring='precision',\n",
    "                               random_state=8,cv=kf)\n",
    "rando = rando.fit(X_scaled,yb)\n",
    "rando.best_params_"
   ]
  },
  {
   "cell_type": "code",
   "execution_count": 36,
   "metadata": {},
   "outputs": [
    {
     "name": "stdout",
     "output_type": "stream",
     "text": [
      "0.8610067016317017\n",
      "0.08826645618511347\n"
     ]
    }
   ],
   "source": [
    "knn = KNeighborsClassifier(n_neighbors=1216,weights='uniform')\n",
    "print(cross_val_score(knn,X_scaled,yb,scoring='precision',cv=kf).mean())\n",
    "print(cross_val_score(knn,X_scaled,yb,scoring='recall',cv=kf).mean())"
   ]
  },
  {
   "cell_type": "markdown",
   "metadata": {},
   "source": [
    "Test the various neighbors to try to narrow down where it crosses the acceptable threshhold."
   ]
  },
  {
   "cell_type": "code",
   "execution_count": 38,
   "metadata": {},
   "outputs": [
    {
     "name": "stdout",
     "output_type": "stream",
     "text": [
      "1501\n"
     ]
    }
   ],
   "source": [
    "precisions = []\n",
    "recalls = []\n",
    "for i in range(1,1502,10) :\n",
    "    clear_output()\n",
    "    print(i)\n",
    "    knn=KNeighborsClassifier(n_neighbors=i,weights='uniform')\n",
    "    precisions.append(cross_val_score(knn,X_scaled,yb,scoring='precision',cv=kf))\n",
    "    recalls.append(cross_val_score(knn,X_scaled,yb,scoring='recall',cv=kf))"
   ]
  },
  {
   "cell_type": "code",
   "execution_count": 39,
   "metadata": {},
   "outputs": [],
   "source": [
    "p_means = [x.mean() for x in precisions]\n",
    "r_means = [x.mean() for x in recalls]"
   ]
  },
  {
   "cell_type": "code",
   "execution_count": 107,
   "metadata": {},
   "outputs": [
    {
     "ename": "SyntaxError",
     "evalue": "invalid syntax (<ipython-input-107-b3f21b86f8ca>, line 1)",
     "output_type": "error",
     "traceback": [
      "\u001b[0;36m  File \u001b[0;32m\"<ipython-input-107-b3f21b86f8ca>\"\u001b[0;36m, line \u001b[0;32m1\u001b[0m\n\u001b[0;31m    plt.plot(r_means,p_means,label=)\u001b[0m\n\u001b[0m                                   ^\u001b[0m\n\u001b[0;31mSyntaxError\u001b[0m\u001b[0;31m:\u001b[0m invalid syntax\n"
     ]
    }
   ],
   "source": [
    "plt.plot(r_means,p_means)\n",
    "plt.plot([0,.67],[.67,.67])\n",
    "plt.plot([.35,.35],[.5,1])\n",
    "plt.legend()"
   ]
  },
  {
   "cell_type": "markdown",
   "metadata": {},
   "source": [
    "Further narrowing down the location of the minimum acceptable recall."
   ]
  },
  {
   "cell_type": "code",
   "execution_count": 41,
   "metadata": {},
   "outputs": [
    {
     "data": {
      "image/png": "[encoded data removed]",
      "text/plain": [
       "<Figure size 432x288 with 1 Axes>"
      ]
     },
     "metadata": {
      "needs_background": "light"
     },
     "output_type": "display_data"
    }
   ],
   "source": [
    "plt.plot(list(range(1,1502,10)),r_means,label='recall')\n",
    "plt.plot([0,1501],[.35,.35]);"
   ]
  },
  {
   "cell_type": "code",
   "execution_count": 44,
   "metadata": {},
   "outputs": [],
   "source": [
    "prec = 1000\n",
    "recall = 1000\n",
    "neighbors = 1000\n",
    "for i in range(825,925) :\n",
    "    knn=KNeighborsClassifier(n_neighbors=i,weights='uniform')\n",
    "    recall_t = cross_val_score(knn,X_scaled,yb,scoring='recall',cv=kf).mean()\n",
    "    if recall_t >= .35 :\n",
    "        prec = cross_val_score(knn,X_scaled,yb,scoring='precision',cv=kf).mean()\n",
    "        recall = cross_val_score(knn,X_scaled,yb,scoring='recall',cv=kf).mean()\n",
    "        neighbors=i\n",
    "    elif recall<.35 :\n",
    "        break"
   ]
  },
  {
   "cell_type": "markdown",
   "metadata": {},
   "source": [
    "Now that we have found the minimum (or near minimum) pair for recall, how many neighbours was that?"
   ]
  },
  {
   "cell_type": "code",
   "execution_count": 45,
   "metadata": {},
   "outputs": [
    {
     "data": {
      "text/plain": [
       "873"
      ]
     },
     "execution_count": 45,
     "metadata": {},
     "output_type": "execute_result"
    }
   ],
   "source": [
    "neighbors"
   ]
  },
  {
   "cell_type": "code",
   "execution_count": 47,
   "metadata": {},
   "outputs": [
    {
     "name": "stdout",
     "output_type": "stream",
     "text": [
      "0.751164100495157\n",
      "0.3560196767882029\n"
     ]
    }
   ],
   "source": [
    "knn = KNeighborsClassifier(n_neighbors=neighbors,weights='uniform')\n",
    "print(cross_val_score(knn,X_scaled,yb,scoring='precision',cv=kf).mean())\n",
    "print(cross_val_score(knn,X_scaled,yb,scoring='recall',cv=kf).mean())"
   ]
  },
  {
   "cell_type": "markdown",
   "metadata": {},
   "source": [
    "### Logistic Regression\n",
    "Precision = .68 <br />\n",
    "Recall = .64"
   ]
  },
  {
   "cell_type": "code",
   "execution_count": 48,
   "metadata": {},
   "outputs": [],
   "source": [
    "lr_params = {'solver':['saga','lbfgs'],'C':np.linspace(1e-7,100,101),'tol':np.linspace(1e-7,100,101)}"
   ]
  },
  {
   "cell_type": "code",
   "execution_count": 50,
   "metadata": {},
   "outputs": [
    {
     "name": "stderr",
     "output_type": "stream",
     "text": [
      "/anaconda3/lib/python3.7/site-packages/sklearn/linear_model/sag.py:334: ConvergenceWarning: The max_iter was reached which means the coef_ did not converge\n",
      "  \"the coef_ did not converge\", ConvergenceWarning)\n",
      "/anaconda3/lib/python3.7/site-packages/sklearn/linear_model/sag.py:334: ConvergenceWarning: The max_iter was reached which means the coef_ did not converge\n",
      "  \"the coef_ did not converge\", ConvergenceWarning)\n",
      "/anaconda3/lib/python3.7/site-packages/sklearn/linear_model/sag.py:334: ConvergenceWarning: The max_iter was reached which means the coef_ did not converge\n",
      "  \"the coef_ did not converge\", ConvergenceWarning)\n"
     ]
    },
    {
     "data": {
      "text/plain": [
       "{'tol': 35.000000065, 'solver': 'saga', 'C': 91.00000000899999}"
      ]
     },
     "execution_count": 50,
     "metadata": {},
     "output_type": "execute_result"
    }
   ],
   "source": [
    "lr_gridsearch = LogisticRegression(random_state=8)\n",
    "rando = RandomizedSearchCV(lr_gridsearch,param_distributions=lr_params,n_iter=100,scoring='precision',\n",
    "                               random_state=8,cv=kf)\n",
    "rando.fit(X_scaled,yb)\n",
    "rando.best_params_"
   ]
  },
  {
   "cell_type": "code",
   "execution_count": 51,
   "metadata": {},
   "outputs": [
    {
     "name": "stdout",
     "output_type": "stream",
     "text": [
      "0.6829113072846226\n",
      "0.6454386992108354\n"
     ]
    }
   ],
   "source": [
    "lr = LogisticRegression(tol=35,C=91,solver='saga',random_state=8)\n",
    "print(cross_val_score(lr,X_scaled,yb,scoring='precision',cv=kf).mean())\n",
    "print(cross_val_score(lr,X_scaled,yb,scoring='recall',cv=kf).mean())"
   ]
  },
  {
   "cell_type": "code",
   "execution_count": 52,
   "metadata": {},
   "outputs": [
    {
     "data": {
      "text/plain": [
       "[('Horror', -0.20748488576471055),\n",
       " ('budget', -0.007799287703383429),\n",
       " ('actor_2_fb', 0.015768441881767747),\n",
       " ('actor_3_fb', 0.01783228475568693),\n",
       " ('starpower', 0.050351539437688254),\n",
       " ('aspect_ratio_other', 0.05504589474284338),\n",
       " ('actor_1_fb', 0.05729728588520348),\n",
       " ('country_UK', 0.061409228351168306),\n",
       " ('History', 0.07169742899213585),\n",
       " ('rating_andre', 0.07336969050616036),\n",
       " ('Sport', 0.0853723901721629),\n",
       " ('language_andre', 0.08724912772792352),\n",
       " ('War', 0.0982267368394145),\n",
       " ('Music', 0.10378711514365856),\n",
       " ('director_fb', 0.10912099580475),\n",
       " ('Biography', 0.10970236186146079),\n",
       " ('Musical', 0.11643222978146776),\n",
       " ('Documentary', 0.1589595330224248),\n",
       " ('runtime', 0.21567806246155904),\n",
       " ('Drama', 0.2467224985957975)]"
      ]
     },
     "execution_count": 52,
     "metadata": {},
     "output_type": "execute_result"
    }
   ],
   "source": [
    "lr.fit(X_scaled,yb)\n",
    "sorted(list(zip(X.columns,lr.coef_[0])),key = lambda x : x[1])"
   ]
  },
  {
   "cell_type": "markdown",
   "metadata": {},
   "source": [
    "Here I try dropping the least impactful feature, as rated above. I did this for a few of the lowest ones and found that they all failed to increase the precision and lowered the accuracy, so this is not a good change."
   ]
  },
  {
   "cell_type": "code",
   "execution_count": 54,
   "metadata": {},
   "outputs": [],
   "source": [
    "X_dropping = Xb.drop(['Horror'],axis=1)\n",
    "X_scaled_dropping = scaler.fit_transform(X_dropping)"
   ]
  },
  {
   "cell_type": "code",
   "execution_count": 55,
   "metadata": {},
   "outputs": [
    {
     "name": "stderr",
     "output_type": "stream",
     "text": [
      "/anaconda3/lib/python3.7/site-packages/sklearn/linear_model/sag.py:334: ConvergenceWarning: The max_iter was reached which means the coef_ did not converge\n",
      "  \"the coef_ did not converge\", ConvergenceWarning)\n",
      "/anaconda3/lib/python3.7/site-packages/sklearn/linear_model/sag.py:334: ConvergenceWarning: The max_iter was reached which means the coef_ did not converge\n",
      "  \"the coef_ did not converge\", ConvergenceWarning)\n",
      "/anaconda3/lib/python3.7/site-packages/sklearn/linear_model/sag.py:334: ConvergenceWarning: The max_iter was reached which means the coef_ did not converge\n",
      "  \"the coef_ did not converge\", ConvergenceWarning)\n"
     ]
    },
    {
     "data": {
      "text/plain": [
       "{'tol': 35.000000065, 'solver': 'saga', 'C': 91.00000000899999}"
      ]
     },
     "execution_count": 55,
     "metadata": {},
     "output_type": "execute_result"
    }
   ],
   "source": [
    "lr_gridsearch = LogisticRegression(random_state=8)\n",
    "rando = RandomizedSearchCV(lr_gridsearch,param_distributions=lr_params,n_iter=100,scoring='precision',\n",
    "                               random_state=8,cv=kf)\n",
    "rando.fit(X_scaled_dropping,yb)\n",
    "rando.best_params_"
   ]
  },
  {
   "cell_type": "code",
   "execution_count": 56,
   "metadata": {},
   "outputs": [
    {
     "name": "stdout",
     "output_type": "stream",
     "text": [
      "0.6905236839345382\n",
      "0.5975294094672485\n"
     ]
    }
   ],
   "source": [
    "lr = LogisticRegression(tol=35,C=91,solver='saga',random_state=8)\n",
    "print(cross_val_score(lr,X_scaled_dropping,yb,scoring='precision',cv=kf).mean())\n",
    "print(cross_val_score(lr,X_scaled_dropping,yb,scoring='recall',cv=kf).mean())"
   ]
  },
  {
   "cell_type": "markdown",
   "metadata": {},
   "source": [
    "### Naive Bayes (Bernoulli)\n",
    "Precision = .68 <br />\n",
    "Recall = .34"
   ]
  },
  {
   "cell_type": "code",
   "execution_count": 22,
   "metadata": {},
   "outputs": [
    {
     "name": "stdout",
     "output_type": "stream",
     "text": [
      "0.6798548599886653\n",
      "0.33706111988916687\n"
     ]
    }
   ],
   "source": [
    "nbb = BernoulliNB()\n",
    "print(cross_val_score(nbb,Xb.loc[:,['Documentary','Biography','History','Musical','Sport','language_andre','country_UK',\n",
    "                                    'Horror']],yb,scoring='precision',cv=kf).mean())\n",
    "print(cross_val_score(nbb,Xb.loc[:,['Documentary','Biography','History','Musical','Sport','language_andre','country_UK',\n",
    "                                    'Horror']],yb,scoring='recall',cv=kf).mean())"
   ]
  },
  {
   "cell_type": "markdown",
   "metadata": {},
   "source": [
    "### Naive Bayes (Gaussian)\n",
    "Precision = .68 <br />\n",
    "Recall = .33"
   ]
  },
  {
   "cell_type": "code",
   "execution_count": 23,
   "metadata": {},
   "outputs": [
    {
     "name": "stdout",
     "output_type": "stream",
     "text": [
      "0.6770945759312742\n",
      "0.3267150330541616\n"
     ]
    }
   ],
   "source": [
    "X_selection = Xb.loc[:,['runtime','actor_2_fb']]\n",
    "X_scaled = scaler.fit_transform(X_selection)\n",
    "nbg = GaussianNB()\n",
    "print(cross_val_score(nbg,X_scaled,yb,scoring='precision',cv=kf).mean())\n",
    "print(cross_val_score(nbg,X_scaled,yb,scoring='recall',cv=kf).mean())"
   ]
  },
  {
   "cell_type": "markdown",
   "metadata": {},
   "source": [
    "### Naive Bayes (Ensembled)\n",
    "Now to combine the two! The best method, we see, is weighted soft voting for a balance of recall and precision."
   ]
  },
  {
   "cell_type": "code",
   "execution_count": 25,
   "metadata": {},
   "outputs": [
    {
     "data": {
      "text/plain": [
       "BernoulliNB(alpha=1.0, binarize=0.0, class_prior=None, fit_prior=True)"
      ]
     },
     "execution_count": 25,
     "metadata": {},
     "output_type": "execute_result"
    }
   ],
   "source": [
    "nbg.fit(Xb.loc[:,['runtime','actor_2_fb']],yb)\n",
    "nbb.fit(Xb.loc[:,['Documentary','Biography','History','Musical','Sport','language_andre','country_UK','Horror']],yb)"
   ]
  },
  {
   "cell_type": "code",
   "execution_count": 26,
   "metadata": {},
   "outputs": [
    {
     "name": "stdout",
     "output_type": "stream",
     "text": [
      "0.7480918569748028\n",
      "0.385352689814506\n"
     ]
    }
   ],
   "source": [
    "X_scaled = scaler.fit_transform(Xb)\n",
    "estimators = [('nbg',nbg),('nbb',nbb)]\n",
    "nb_vote = VotingClassifier(estimators=estimators,voting='hard')\n",
    "print(cross_val_score(nb_vote,X_scaled,yb,scoring='precision',cv=kf).mean())\n",
    "print(cross_val_score(nb_vote,X_scaled,yb,scoring='recall',cv=kf).mean())"
   ]
  },
  {
   "cell_type": "code",
   "execution_count": 27,
   "metadata": {},
   "outputs": [
    {
     "name": "stdout",
     "output_type": "stream",
     "text": [
      "0.7004163170759126\n",
      "0.47820013845329046\n"
     ]
    }
   ],
   "source": [
    "X_scaled = scaler.fit_transform(Xb)\n",
    "estimators = [('nbg',nbg),('nbb',nbb)]\n",
    "nb_vote = VotingClassifier(estimators=estimators,weights=[.25,.5],voting='soft')\n",
    "print(cross_val_score(nb_vote,X_scaled,yb,scoring='precision',cv=kf).mean())\n",
    "print(cross_val_score(nb_vote,X_scaled,yb,scoring='recall',cv=kf).mean())"
   ]
  },
  {
   "cell_type": "code",
   "execution_count": 28,
   "metadata": {},
   "outputs": [
    {
     "name": "stdout",
     "output_type": "stream",
     "text": [
      "0.7015078968790767\n",
      "0.42923923011345333\n"
     ]
    }
   ],
   "source": [
    "nb_stack = StackingClassifier(classifiers=[nbg],meta_classifier=nbb)\n",
    "print(cross_val_score(nb_stack,X_scaled,yb,scoring='precision',cv=kf).mean())\n",
    "print(cross_val_score(nb_stack,X_scaled,yb,scoring='recall',cv=kf).mean())"
   ]
  },
  {
   "cell_type": "markdown",
   "metadata": {},
   "source": [
    "### AT THIS POINT\n",
    "The best models up to now are listed below.\n",
    "\n",
    "Og så kan vi ser om (and so we can see if) mixing the models is better! And ultimately, yes in the case of a voting classifier (though it comes at the cost of recall). No matter what I tried with stacking, though, there was no improvement."
   ]
  },
  {
   "cell_type": "code",
   "execution_count": 30,
   "metadata": {},
   "outputs": [],
   "source": [
    "from sklearn.ensemble import VotingClassifier\n",
    "from mlxtend.classifier import StackingClassifier"
   ]
  },
  {
   "cell_type": "code",
   "execution_count": 31,
   "metadata": {},
   "outputs": [],
   "source": [
    "X_scaled = scaler.fit_transform(Xb)"
   ]
  },
  {
   "cell_type": "code",
   "execution_count": 32,
   "metadata": {},
   "outputs": [],
   "source": [
    "rf = RandomForestClassifier(random_state=8,n_estimators=100,criterion='entropy',max_depth=15)\n",
    "knn = KNeighborsClassifier(n_neighbors=873,weights='uniform')\n",
    "estimators = [('nbg',nbg),('nbb',nbb)]\n",
    "nb = VotingClassifier(estimators=estimators,weights=[.25,.5],voting='soft')\n",
    "lr = LogisticRegression(tol=35,C=91,solver='saga',random_state=8)\n",
    "knn_hp = KNeighborsClassifier(n_neighbors=1216,weights='uniform')"
   ]
  },
  {
   "cell_type": "code",
   "execution_count": 33,
   "metadata": {},
   "outputs": [],
   "source": [
    "final_estimators = [('rf',rf),\n",
    "             ('knn',knn),\n",
    "             ('nb',nb),\n",
    "             ('lr',lr)]"
   ]
  },
  {
   "cell_type": "code",
   "execution_count": 34,
   "metadata": {},
   "outputs": [
    {
     "name": "stdout",
     "output_type": "stream",
     "text": [
      "0.7548791368183193\n",
      "0.4644929549299318\n"
     ]
    }
   ],
   "source": [
    "vclass = VotingClassifier(estimators=final_estimators,voting='hard')\n",
    "print(cross_val_score(vclass,X_scaled,yb,scoring='precision',cv=kf).mean())\n",
    "print(cross_val_score(vclass,X_scaled,yb,scoring='recall',cv=kf).mean())"
   ]
  },
  {
   "cell_type": "code",
   "execution_count": 35,
   "metadata": {},
   "outputs": [],
   "source": [
    "final_estimators = [('rf',rf),\n",
    "             ('knn',knn),\n",
    "             ('knn_hp',knn_hp)]"
   ]
  },
  {
   "cell_type": "code",
   "execution_count": 36,
   "metadata": {},
   "outputs": [
    {
     "name": "stdout",
     "output_type": "stream",
     "text": [
      "0.7576976975738022\n",
      "0.6112625597857646\n"
     ]
    }
   ],
   "source": [
    "vclass = VotingClassifier(estimators=final_estimators,weights=[3,2,2],voting='soft')\n",
    "print(cross_val_score(vclass,X_scaled,yb,scoring='precision',cv=kf).mean())\n",
    "print(cross_val_score(vclass,X_scaled,yb,scoring='recall',cv=kf).mean())"
   ]
  },
  {
   "cell_type": "code",
   "execution_count": 37,
   "metadata": {},
   "outputs": [],
   "source": [
    "estimators = [rf,knn_hp,nb]"
   ]
  },
  {
   "cell_type": "code",
   "execution_count": 38,
   "metadata": {},
   "outputs": [
    {
     "name": "stdout",
     "output_type": "stream",
     "text": [
      "0.7132071727962711\n",
      "0.7294758359070116\n"
     ]
    }
   ],
   "source": [
    "sclass = StackingClassifier(classifiers=estimators,\n",
    "                            meta_classifier=knn_hp,\n",
    "                            use_probas=True)\n",
    "print(cross_val_score(sclass,X_scaled,yb,scoring='precision',cv=kf).mean())\n",
    "print(cross_val_score(sclass,X_scaled,yb,scoring='recall',cv=kf).mean())"
   ]
  },
  {
   "cell_type": "code",
   "execution_count": 39,
   "metadata": {},
   "outputs": [],
   "source": [
    "estimators = [rf,knn_hp]"
   ]
  },
  {
   "cell_type": "code",
   "execution_count": 40,
   "metadata": {},
   "outputs": [
    {
     "name": "stdout",
     "output_type": "stream",
     "text": [
      "0.7207350411283496\n",
      "0.7228533837396405\n"
     ]
    }
   ],
   "source": [
    "sclass = StackingClassifier(classifiers=estimators,\n",
    "                            meta_classifier=rf,\n",
    "                            use_probas=False)\n",
    "print(cross_val_score(sclass,X_scaled,yb,scoring='precision',cv=kf).mean())\n",
    "print(cross_val_score(sclass,X_scaled,yb,scoring='recall',cv=kf).mean())"
   ]
  },
  {
   "cell_type": "markdown",
   "metadata": {},
   "source": [
    "### NOW TO DECIDE \n",
    "And it's easy this time! 72/72 - the second stacker."
   ]
  },
  {
   "cell_type": "code",
   "execution_count": 41,
   "metadata": {},
   "outputs": [],
   "source": [
    "estimators = [rf,knn_hp]"
   ]
  },
  {
   "cell_type": "code",
   "execution_count": 42,
   "metadata": {},
   "outputs": [
    {
     "name": "stdout",
     "output_type": "stream",
     "text": [
      "0.7207350411283496\n",
      "0.7228533837396405\n"
     ]
    }
   ],
   "source": [
    "final_mod = StackingClassifier(classifiers=estimators,\n",
    "                            meta_classifier=rf,\n",
    "                            use_probas=False,\n",
    "                            store_train_meta_features=True)\n",
    "final_mod.fit(X_scaled,yb)\n",
    "print(cross_val_score(sclass,X_scaled,yb,scoring='precision',cv=kf).mean())\n",
    "print(cross_val_score(sclass,X_scaled,yb,scoring='recall',cv=kf).mean())"
   ]
  },
  {
   "cell_type": "markdown",
   "metadata": {},
   "source": [
    "Let's test this on our test data - pretty good!"
   ]
  },
  {
   "cell_type": "code",
   "execution_count": 43,
   "metadata": {},
   "outputs": [],
   "source": [
    "from sklearn.metrics import precision_score,recall_score"
   ]
  },
  {
   "cell_type": "code",
   "execution_count": 44,
   "metadata": {},
   "outputs": [
    {
     "name": "stderr",
     "output_type": "stream",
     "text": [
      "/anaconda3/lib/python3.7/site-packages/ipykernel_launcher.py:3: DataConversionWarning: Data with input dtype uint8, float64 were all converted to float64 by StandardScaler.\n",
      "  This is separate from the ipykernel package so we can avoid doing imports until\n"
     ]
    },
    {
     "name": "stdout",
     "output_type": "stream",
     "text": [
      "0.7262931034482759\n",
      "0.6962809917355371\n"
     ]
    }
   ],
   "source": [
    "X_t = test.drop('audience',axis=1)\n",
    "scaler.fit(Xb)\n",
    "X_t_scaled = scaler.transform(X_t)\n",
    "y_t = test['audience']\n",
    "y_pred = final_mod.predict(X_t_scaled)\n",
    "\n",
    "print(precision_score(y_t,y_pred))\n",
    "print(recall_score(y_t,y_pred))"
   ]
  },
  {
   "cell_type": "markdown",
   "metadata": {},
   "source": [
    "Visualising the confusion matrix."
   ]
  },
  {
   "cell_type": "code",
   "execution_count": 45,
   "metadata": {},
   "outputs": [
    {
     "data": {
      "image/png": "[encoded data removed]",
      "text/plain": [
       "<Figure size 1800x1200 with 2 Axes>"
      ]
     },
     "metadata": {
      "needs_background": "light"
     },
     "output_type": "display_data"
    }
   ],
   "source": [
    "plt.figure(dpi=300)\n",
    "ax = sns.heatmap(confusion_matrix(y_t,y_pred),cmap=plt.cm.Greens,\n",
    "            annot=True,\n",
    "            fmt='g',\n",
    "            annot_kws = {'size':10},\n",
    "            square=True,\n",
    "            xticklabels=['Rotten','Fresh'],\n",
    "            yticklabels=['Rotten','Fresh'],\n",
    "                )\n",
    "ax.set_yticklabels(ax.get_yticklabels(),rotation=360)\n",
    "plt.xlabel('Predicted Rating')\n",
    "plt.ylabel('Actual Rating',rotation=360,labelpad=40)\n",
    "plt.title('Distribution of Predictions for Stacking Model',pad=20)\n",
    "plt.savefig('confusion_aud.svg');"
   ]
  },
  {
   "cell_type": "markdown",
   "metadata": {},
   "source": [
    "Save everything!"
   ]
  },
  {
   "cell_type": "code",
   "execution_count": 57,
   "metadata": {},
   "outputs": [],
   "source": [
    "import pickle"
   ]
  },
  {
   "cell_type": "code",
   "execution_count": 58,
   "metadata": {},
   "outputs": [],
   "source": [
    "with open(\"final_aud.pkl\", \"wb\") as f:\n",
    "    pickle.dump(final_mod, f)"
   ]
  },
  {
   "cell_type": "code",
   "execution_count": 59,
   "metadata": {},
   "outputs": [],
   "source": [
    "with open(\"aud_scaler.pkl\",\"wb\") as f :\n",
    "    pickle.dump(scaler,f)"
   ]
  }
 ],
 "metadata": {
  "kernelspec": {
   "display_name": "Python 3",
   "language": "python",
   "name": "python3"
  },
  "language_info": {
   "codemirror_mode": {
    "name": "ipython",
    "version": 3
   },
   "file_extension": ".py",
   "mimetype": "text/x-python",
   "name": "python",
   "nbconvert_exporter": "python",
   "pygments_lexer": "ipython3",
   "version": "3.7.1"
  }
 },
 "nbformat": 4,
 "nbformat_minor": 2
}
