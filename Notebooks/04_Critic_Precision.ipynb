{
 "cells": [
  {
   "cell_type": "code",
   "execution_count": 3,
   "metadata": {},
   "outputs": [],
   "source": [
    "import warnings\n",
    "warnings.filterwarnings('ignore')"
   ]
  },
  {
   "cell_type": "code",
   "execution_count": 4,
   "metadata": {},
   "outputs": [],
   "source": [
    "import pandas as pd\n",
    "import numpy as np\n",
    "np.set_printoptions(suppress=True)\n",
    "\n",
    "from sklearn.model_selection import train_test_split,cross_val_score,KFold,RandomizedSearchCV\n",
    "from sklearn.dummy import DummyClassifier\n",
    "from sklearn.metrics import confusion_matrix,precision_recall_curve,precision_score,recall_score\n",
    "from sklearn.ensemble import RandomForestClassifier,VotingClassifier\n",
    "from sklearn.svm import SVC\n",
    "from sklearn.neighbors import KNeighborsClassifier\n",
    "from sklearn.preprocessing import StandardScaler,StandardScaler\n",
    "from sklearn.linear_model import LogisticRegression\n",
    "from sklearn.naive_bayes import BernoulliNB,GaussianNB\n",
    "from mlxtend.classifier import StackingClassifier\n",
    "\n",
    "import matplotlib.pyplot as plt\n",
    "import seaborn as sns\n",
    "\n",
    "from IPython.display import clear_output"
   ]
  },
  {
   "cell_type": "markdown",
   "metadata": {},
   "source": [
    "Import the data and drop decade information, as this can't be decided."
   ]
  },
  {
   "cell_type": "code",
   "execution_count": 3,
   "metadata": {},
   "outputs": [],
   "source": [
    "critic_table = pd.read_pickle('critic_edad.pkl')\n",
    "critic_table = critic_table.drop(['decade_old','decade_80s','decade_70s'],axis=1)"
   ]
  },
  {
   "cell_type": "markdown",
   "metadata": {},
   "source": [
    "Create a data holdout."
   ]
  },
  {
   "cell_type": "code",
   "execution_count": 4,
   "metadata": {},
   "outputs": [],
   "source": [
    "train,test = train_test_split(critic_table,shuffle=True,test_size=.2,random_state=8)\n",
    "kf = KFold(n_splits=4,shuffle=True,random_state=8)"
   ]
  },
  {
   "cell_type": "markdown",
   "metadata": {},
   "source": [
    "Check the balance of classes in our train and test."
   ]
  },
  {
   "cell_type": "code",
   "execution_count": 5,
   "metadata": {},
   "outputs": [
    {
     "data": {
      "text/plain": [
       "0.44983089064261556"
      ]
     },
     "execution_count": 5,
     "metadata": {},
     "output_type": "execute_result"
    }
   ],
   "source": [
    "len(test[test.critic==1])/len(test)"
   ]
  },
  {
   "cell_type": "code",
   "execution_count": 6,
   "metadata": {},
   "outputs": [
    {
     "data": {
      "text/plain": [
       "0.482943332393572"
      ]
     },
     "execution_count": 6,
     "metadata": {},
     "output_type": "execute_result"
    }
   ],
   "source": [
    "len(train[train.critic==1])/len(train)"
   ]
  },
  {
   "cell_type": "code",
   "execution_count": 7,
   "metadata": {},
   "outputs": [
    {
     "data": {
      "text/plain": [
       "0.476319350473613"
      ]
     },
     "execution_count": 7,
     "metadata": {},
     "output_type": "execute_result"
    }
   ],
   "source": [
    "len(critic_table[critic_table.critic==1])/len(critic_table)"
   ]
  },
  {
   "cell_type": "markdown",
   "metadata": {},
   "source": [
    "### Not too bad, but eh... Let's stratify!"
   ]
  },
  {
   "cell_type": "code",
   "execution_count": 8,
   "metadata": {},
   "outputs": [],
   "source": [
    "def train_test_better(matrix,stratifier) :\n",
    "    cat1 = matrix[matrix[stratifier]==1]\n",
    "    cat2 = matrix[matrix[stratifier]==0]\n",
    "    tr1,te1 = train_test_split(cat1,shuffle=True,test_size=.2,random_state=9)\n",
    "    tr2,te2 = train_test_split(cat2,shuffle=True,test_size=.2,random_state=9)\n",
    "    train = pd.DataFrame(pd.concat([tr1,tr2],axis=0))\n",
    "    train = train.sample(frac=1)\n",
    "    test = pd.DataFrame(pd.concat([te1,te2],axis=0))\n",
    "    test = test.sample(frac=1)\n",
    "    return train,test"
   ]
  },
  {
   "cell_type": "markdown",
   "metadata": {},
   "source": [
    "Better."
   ]
  },
  {
   "cell_type": "code",
   "execution_count": 9,
   "metadata": {},
   "outputs": [],
   "source": [
    "train, test = train_test_better(critic_table,'critic')"
   ]
  },
  {
   "cell_type": "code",
   "execution_count": 10,
   "metadata": {},
   "outputs": [
    {
     "data": {
      "text/plain": [
       "0.4763113367174281"
      ]
     },
     "execution_count": 10,
     "metadata": {},
     "output_type": "execute_result"
    }
   ],
   "source": [
    "len(train[train.critic==1])/len(train)"
   ]
  },
  {
   "cell_type": "code",
   "execution_count": 11,
   "metadata": {},
   "outputs": [
    {
     "data": {
      "text/plain": [
       "0.47635135135135137"
      ]
     },
     "execution_count": 11,
     "metadata": {},
     "output_type": "execute_result"
    }
   ],
   "source": [
    "len(test[test.critic==1])/len(test)"
   ]
  },
  {
   "cell_type": "code",
   "execution_count": 12,
   "metadata": {},
   "outputs": [
    {
     "data": {
      "text/plain": [
       "0.476319350473613"
      ]
     },
     "execution_count": 12,
     "metadata": {},
     "output_type": "execute_result"
    }
   ],
   "source": [
    "len(critic_table[critic_table.critic==1])/len(critic_table)"
   ]
  },
  {
   "cell_type": "code",
   "execution_count": 13,
   "metadata": {},
   "outputs": [],
   "source": [
    "X = train.drop(['critic'],axis=1)\n",
    "y = train['critic']"
   ]
  },
  {
   "cell_type": "markdown",
   "metadata": {},
   "source": [
    "### Naive classifiers to test against class-balanced data"
   ]
  },
  {
   "cell_type": "code",
   "execution_count": 14,
   "metadata": {},
   "outputs": [
    {
     "data": {
      "text/plain": [
       "0.6937342374554959"
      ]
     },
     "execution_count": 14,
     "metadata": {},
     "output_type": "execute_result"
    }
   ],
   "source": [
    "rf = RandomForestClassifier(n_estimators=100,random_state=8,max_depth=11)\n",
    "cross_val_score(rf,X,y,scoring='accuracy',cv=kf).mean()"
   ]
  },
  {
   "cell_type": "code",
   "execution_count": 15,
   "metadata": {},
   "outputs": [
    {
     "name": "stderr",
     "output_type": "stream",
     "text": [
      "/anaconda3/lib/python3.7/site-packages/sklearn/preprocessing/data.py:625: DataConversionWarning: Data with input dtype uint8, float64 were all converted to float64 by StandardScaler.\n",
      "  return self.partial_fit(X, y)\n",
      "/anaconda3/lib/python3.7/site-packages/sklearn/base.py:462: DataConversionWarning: Data with input dtype uint8, float64 were all converted to float64 by StandardScaler.\n",
      "  return self.fit(X, **fit_params).transform(X)\n"
     ]
    },
    {
     "data": {
      "text/plain": [
       "0.6559496209354585"
      ]
     },
     "execution_count": 15,
     "metadata": {},
     "output_type": "execute_result"
    }
   ],
   "source": [
    "scaler = StandardScaler()\n",
    "X_scaled = scaler.fit_transform(X)\n",
    "lr = LogisticRegression(solver='lbfgs',random_state=8)\n",
    "cross_val_score(lr,X_scaled,y,scoring='accuracy',cv=kf).mean()"
   ]
  },
  {
   "cell_type": "markdown",
   "metadata": {},
   "source": [
    "### Balanced data results\n",
    "The difference is minimal with both under and oversampling (and I don't want to purposefully warp the data far from its origin), so I'm going to leave be."
   ]
  },
  {
   "cell_type": "code",
   "execution_count": 16,
   "metadata": {},
   "outputs": [
    {
     "data": {
      "text/plain": [
       "1857"
      ]
     },
     "execution_count": 16,
     "metadata": {},
     "output_type": "execute_result"
    }
   ],
   "source": [
    "len(X[y==0])"
   ]
  },
  {
   "cell_type": "code",
   "execution_count": 17,
   "metadata": {},
   "outputs": [
    {
     "data": {
      "text/plain": [
       "1689"
      ]
     },
     "execution_count": 17,
     "metadata": {},
     "output_type": "execute_result"
    }
   ],
   "source": [
    "len(X[y==1])"
   ]
  },
  {
   "cell_type": "markdown",
   "metadata": {},
   "source": [
    "Oversampling class 1."
   ]
  },
  {
   "cell_type": "code",
   "execution_count": 18,
   "metadata": {},
   "outputs": [],
   "source": [
    "from imblearn.over_sampling import SMOTE\n",
    "Xb, yb = SMOTE(random_state=8,sampling_strategy={0:1857,1:1857}).fit_sample(X,y)"
   ]
  },
  {
   "cell_type": "code",
   "execution_count": 19,
   "metadata": {},
   "outputs": [
    {
     "data": {
      "text/plain": [
       "0.6892750013919305"
      ]
     },
     "execution_count": 19,
     "metadata": {},
     "output_type": "execute_result"
    }
   ],
   "source": [
    "rf = RandomForestClassifier(n_estimators=100,random_state=8,max_depth=11)\n",
    "cross_val_score(rf,Xb,yb,scoring='accuracy',cv=kf).mean()"
   ]
  },
  {
   "cell_type": "code",
   "execution_count": 20,
   "metadata": {},
   "outputs": [
    {
     "data": {
      "text/plain": [
       "0.651312416484169"
      ]
     },
     "execution_count": 20,
     "metadata": {},
     "output_type": "execute_result"
    }
   ],
   "source": [
    "scaler = StandardScaler()\n",
    "X_scaled = scaler.fit_transform(Xb)\n",
    "lr = LogisticRegression(solver='lbfgs',random_state=8)\n",
    "cross_val_score(lr,X_scaled,yb,scoring='accuracy',cv=kf).mean()"
   ]
  },
  {
   "cell_type": "markdown",
   "metadata": {},
   "source": [
    "Undersampling class 0."
   ]
  },
  {
   "cell_type": "code",
   "execution_count": 21,
   "metadata": {},
   "outputs": [],
   "source": [
    "from imblearn.under_sampling import RandomUnderSampler\n",
    "Xb, yb = RandomUnderSampler(random_state=42,ratio={0:1689,1:1689}).fit_sample(X,y)"
   ]
  },
  {
   "cell_type": "code",
   "execution_count": 22,
   "metadata": {},
   "outputs": [
    {
     "data": {
      "text/plain": [
       "0.685624596875964"
      ]
     },
     "execution_count": 22,
     "metadata": {},
     "output_type": "execute_result"
    }
   ],
   "source": [
    "rf = RandomForestClassifier(n_estimators=100,random_state=8,max_depth=11)\n",
    "cross_val_score(rf,Xb,yb,scoring='accuracy',cv=kf).mean()"
   ]
  },
  {
   "cell_type": "code",
   "execution_count": 23,
   "metadata": {},
   "outputs": [
    {
     "data": {
      "text/plain": [
       "0.658383928321041"
      ]
     },
     "execution_count": 23,
     "metadata": {},
     "output_type": "execute_result"
    }
   ],
   "source": [
    "scaler = StandardScaler()\n",
    "X_scaled = scaler.fit_transform(Xb)\n",
    "lr = LogisticRegression(solver='lbfgs',random_state=8)\n",
    "cross_val_score(lr,X_scaled,yb,scoring='accuracy',cv=kf).mean()"
   ]
  },
  {
   "cell_type": "markdown",
   "metadata": {},
   "source": [
    "# Models"
   ]
  },
  {
   "cell_type": "code",
   "execution_count": 24,
   "metadata": {},
   "outputs": [
    {
     "name": "stderr",
     "output_type": "stream",
     "text": [
      "/anaconda3/lib/python3.7/site-packages/sklearn/preprocessing/data.py:625: DataConversionWarning: Data with input dtype uint8, float64 were all converted to float64 by StandardScaler.\n",
      "  return self.partial_fit(X, y)\n",
      "/anaconda3/lib/python3.7/site-packages/sklearn/base.py:462: DataConversionWarning: Data with input dtype uint8, float64 were all converted to float64 by StandardScaler.\n",
      "  return self.fit(X, **fit_params).transform(X)\n"
     ]
    }
   ],
   "source": [
    "scaler = StandardScaler()\n",
    "X_scaled = scaler.fit_transform(X)"
   ]
  },
  {
   "cell_type": "markdown",
   "metadata": {},
   "source": [
    "### SVM\n",
    "I'm only running this once because it's the literal worst, I fully know how to do it, I just don't want to spend all my time on one model."
   ]
  },
  {
   "cell_type": "code",
   "execution_count": 29,
   "metadata": {},
   "outputs": [],
   "source": [
    "svc_params = {'C': np.linspace(1e-7,1e2,20),'gamma':np.linspace(1e-7,1e2,20)}"
   ]
  },
  {
   "cell_type": "code",
   "execution_count": 30,
   "metadata": {},
   "outputs": [
    {
     "name": "stderr",
     "output_type": "stream",
     "text": [
      "/anaconda3/lib/python3.7/site-packages/sklearn/metrics/classification.py:1143: UndefinedMetricWarning: Precision is ill-defined and being set to 0.0 due to no predicted samples.\n",
      "  'precision', 'predicted', average, warn_for)\n",
      "/anaconda3/lib/python3.7/site-packages/sklearn/metrics/classification.py:1143: UndefinedMetricWarning: Precision is ill-defined and being set to 0.0 due to no predicted samples.\n",
      "  'precision', 'predicted', average, warn_for)\n",
      "/anaconda3/lib/python3.7/site-packages/sklearn/metrics/classification.py:1143: UndefinedMetricWarning: Precision is ill-defined and being set to 0.0 due to no predicted samples.\n",
      "  'precision', 'predicted', average, warn_for)\n",
      "/anaconda3/lib/python3.7/site-packages/sklearn/metrics/classification.py:1143: UndefinedMetricWarning: Precision is ill-defined and being set to 0.0 due to no predicted samples.\n",
      "  'precision', 'predicted', average, warn_for)\n",
      "/anaconda3/lib/python3.7/site-packages/sklearn/metrics/classification.py:1143: UndefinedMetricWarning: Precision is ill-defined and being set to 0.0 due to no predicted samples.\n",
      "  'precision', 'predicted', average, warn_for)\n",
      "/anaconda3/lib/python3.7/site-packages/sklearn/metrics/classification.py:1143: UndefinedMetricWarning: Precision is ill-defined and being set to 0.0 due to no predicted samples.\n",
      "  'precision', 'predicted', average, warn_for)\n",
      "/anaconda3/lib/python3.7/site-packages/sklearn/metrics/classification.py:1143: UndefinedMetricWarning: Precision is ill-defined and being set to 0.0 due to no predicted samples.\n",
      "  'precision', 'predicted', average, warn_for)\n",
      "/anaconda3/lib/python3.7/site-packages/sklearn/metrics/classification.py:1143: UndefinedMetricWarning: Precision is ill-defined and being set to 0.0 due to no predicted samples.\n",
      "  'precision', 'predicted', average, warn_for)\n",
      "/anaconda3/lib/python3.7/site-packages/sklearn/metrics/classification.py:1143: UndefinedMetricWarning: Precision is ill-defined and being set to 0.0 due to no predicted samples.\n",
      "  'precision', 'predicted', average, warn_for)\n",
      "/anaconda3/lib/python3.7/site-packages/sklearn/metrics/classification.py:1143: UndefinedMetricWarning: Precision is ill-defined and being set to 0.0 due to no predicted samples.\n",
      "  'precision', 'predicted', average, warn_for)\n",
      "/anaconda3/lib/python3.7/site-packages/sklearn/metrics/classification.py:1143: UndefinedMetricWarning: Precision is ill-defined and being set to 0.0 due to no predicted samples.\n",
      "  'precision', 'predicted', average, warn_for)\n",
      "/anaconda3/lib/python3.7/site-packages/sklearn/metrics/classification.py:1143: UndefinedMetricWarning: Precision is ill-defined and being set to 0.0 due to no predicted samples.\n",
      "  'precision', 'predicted', average, warn_for)\n",
      "/anaconda3/lib/python3.7/site-packages/sklearn/metrics/classification.py:1143: UndefinedMetricWarning: Precision is ill-defined and being set to 0.0 due to no predicted samples.\n",
      "  'precision', 'predicted', average, warn_for)\n",
      "/anaconda3/lib/python3.7/site-packages/sklearn/metrics/classification.py:1143: UndefinedMetricWarning: Precision is ill-defined and being set to 0.0 due to no predicted samples.\n",
      "  'precision', 'predicted', average, warn_for)\n",
      "/anaconda3/lib/python3.7/site-packages/sklearn/metrics/classification.py:1143: UndefinedMetricWarning: Precision is ill-defined and being set to 0.0 due to no predicted samples.\n",
      "  'precision', 'predicted', average, warn_for)\n",
      "/anaconda3/lib/python3.7/site-packages/sklearn/metrics/classification.py:1143: UndefinedMetricWarning: Precision is ill-defined and being set to 0.0 due to no predicted samples.\n",
      "  'precision', 'predicted', average, warn_for)\n",
      "/anaconda3/lib/python3.7/site-packages/sklearn/metrics/classification.py:1143: UndefinedMetricWarning: Precision is ill-defined and being set to 0.0 due to no predicted samples.\n",
      "  'precision', 'predicted', average, warn_for)\n",
      "/anaconda3/lib/python3.7/site-packages/sklearn/metrics/classification.py:1143: UndefinedMetricWarning: Precision is ill-defined and being set to 0.0 due to no predicted samples.\n",
      "  'precision', 'predicted', average, warn_for)\n",
      "/anaconda3/lib/python3.7/site-packages/sklearn/metrics/classification.py:1143: UndefinedMetricWarning: Precision is ill-defined and being set to 0.0 due to no predicted samples.\n",
      "  'precision', 'predicted', average, warn_for)\n",
      "/anaconda3/lib/python3.7/site-packages/sklearn/metrics/classification.py:1143: UndefinedMetricWarning: Precision is ill-defined and being set to 0.0 due to no predicted samples.\n",
      "  'precision', 'predicted', average, warn_for)\n",
      "/anaconda3/lib/python3.7/site-packages/sklearn/metrics/classification.py:1143: UndefinedMetricWarning: Precision is ill-defined and being set to 0.0 due to no predicted samples.\n",
      "  'precision', 'predicted', average, warn_for)\n",
      "/anaconda3/lib/python3.7/site-packages/sklearn/metrics/classification.py:1143: UndefinedMetricWarning: Precision is ill-defined and being set to 0.0 due to no predicted samples.\n",
      "  'precision', 'predicted', average, warn_for)\n",
      "/anaconda3/lib/python3.7/site-packages/sklearn/metrics/classification.py:1143: UndefinedMetricWarning: Precision is ill-defined and being set to 0.0 due to no predicted samples.\n",
      "  'precision', 'predicted', average, warn_for)\n",
      "/anaconda3/lib/python3.7/site-packages/sklearn/metrics/classification.py:1143: UndefinedMetricWarning: Precision is ill-defined and being set to 0.0 due to no predicted samples.\n",
      "  'precision', 'predicted', average, warn_for)\n",
      "/anaconda3/lib/python3.7/site-packages/sklearn/metrics/classification.py:1143: UndefinedMetricWarning: Precision is ill-defined and being set to 0.0 due to no predicted samples.\n",
      "  'precision', 'predicted', average, warn_for)\n",
      "/anaconda3/lib/python3.7/site-packages/sklearn/metrics/classification.py:1143: UndefinedMetricWarning: Precision is ill-defined and being set to 0.0 due to no predicted samples.\n",
      "  'precision', 'predicted', average, warn_for)\n",
      "/anaconda3/lib/python3.7/site-packages/sklearn/metrics/classification.py:1143: UndefinedMetricWarning: Precision is ill-defined and being set to 0.0 due to no predicted samples.\n",
      "  'precision', 'predicted', average, warn_for)\n",
      "/anaconda3/lib/python3.7/site-packages/sklearn/metrics/classification.py:1143: UndefinedMetricWarning: Precision is ill-defined and being set to 0.0 due to no predicted samples.\n",
      "  'precision', 'predicted', average, warn_for)\n",
      "/anaconda3/lib/python3.7/site-packages/sklearn/metrics/classification.py:1143: UndefinedMetricWarning: Precision is ill-defined and being set to 0.0 due to no predicted samples.\n",
      "  'precision', 'predicted', average, warn_for)\n",
      "/anaconda3/lib/python3.7/site-packages/sklearn/metrics/classification.py:1143: UndefinedMetricWarning: Precision is ill-defined and being set to 0.0 due to no predicted samples.\n",
      "  'precision', 'predicted', average, warn_for)\n",
      "/anaconda3/lib/python3.7/site-packages/sklearn/metrics/classification.py:1143: UndefinedMetricWarning: Precision is ill-defined and being set to 0.0 due to no predicted samples.\n",
      "  'precision', 'predicted', average, warn_for)\n",
      "/anaconda3/lib/python3.7/site-packages/sklearn/metrics/classification.py:1143: UndefinedMetricWarning: Precision is ill-defined and being set to 0.0 due to no predicted samples.\n",
      "  'precision', 'predicted', average, warn_for)\n"
     ]
    },
    {
     "data": {
      "text/plain": [
       "{'gamma': 31.578947436842107, 'C': 15.789473768421052}"
      ]
     },
     "execution_count": 30,
     "metadata": {},
     "output_type": "execute_result"
    }
   ],
   "source": [
    "svc_gridsearch = SVC(random_state=8,kernel='poly',degree=1)\n",
    "rando = RandomizedSearchCV(svc_gridsearch,param_distributions=svc_params,n_iter=20,scoring='precision',\n",
    "                           random_state=8,cv=kf)\n",
    "rando = rando.fit(X_scaled,y)\n",
    "rando.best_params_"
   ]
  },
  {
   "cell_type": "code",
   "execution_count": 27,
   "metadata": {},
   "outputs": [
    {
     "data": {
      "text/plain": [
       "{'gamma': 7.692307784615385, 'C': 38.461538523076925}"
      ]
     },
     "execution_count": 27,
     "metadata": {},
     "output_type": "execute_result"
    }
   ],
   "source": [
    "svc_gridsearch = SVC(random_state=8,kernel='rbf')\n",
    "rando = RandomizedSearchCV(svc_gridsearch,param_distributions=svc_params,n_iter=20,scoring='precision',\n",
    "                           random_state=8,cv=kf)\n",
    "rando = rando.fit(X_scaled,y)\n",
    "rando.best_params_"
   ]
  },
  {
   "cell_type": "code",
   "execution_count": 28,
   "metadata": {},
   "outputs": [
    {
     "name": "stdout",
     "output_type": "stream",
     "text": [
      "0.5731740864227638\n",
      "0.6890809319810168\n"
     ]
    }
   ],
   "source": [
    "svc = SVC(kernel='rbf',gamma=7.69,C=38,random_state=8)\n",
    "print(cross_val_score(svc,X_scaled,y,scoring='precision',cv=kf).mean())\n",
    "print(cross_val_score(svc,X_scaled,y,scoring='recall',cv=kf).mean())"
   ]
  },
  {
   "cell_type": "code",
   "execution_count": 49,
   "metadata": {},
   "outputs": [],
   "source": [
    "# I accidentally ran two gridsearches but I do NOT want to run two SVMs, so we leave this here."
   ]
  },
  {
   "cell_type": "markdown",
   "metadata": {},
   "source": [
    "### Random Forest\n",
    "Best precision : 71% <br />\n",
    "Best recall : 57%"
   ]
  },
  {
   "cell_type": "code",
   "execution_count": 25,
   "metadata": {},
   "outputs": [],
   "source": [
    "rf_params = {'criterion':['gini','entropy'],'max_depth':list(range(1,23))}"
   ]
  },
  {
   "cell_type": "code",
   "execution_count": 26,
   "metadata": {},
   "outputs": [
    {
     "data": {
      "text/plain": [
       "{'max_depth': 5, 'criterion': 'gini'}"
      ]
     },
     "execution_count": 26,
     "metadata": {},
     "output_type": "execute_result"
    }
   ],
   "source": [
    "rf_gridsearch = RandomForestClassifier(n_estimators=100,random_state=8)\n",
    "rando = RandomizedSearchCV(rf_gridsearch,param_distributions=rf_params,n_iter=40,scoring='precision',\n",
    "                               random_state=8,cv=kf)\n",
    "rando = rando.fit(X,y)\n",
    "rando.best_params_"
   ]
  },
  {
   "cell_type": "code",
   "execution_count": 27,
   "metadata": {},
   "outputs": [
    {
     "name": "stdout",
     "output_type": "stream",
     "text": [
      "0.7117871142550782\n",
      "0.5736487773310793\n"
     ]
    }
   ],
   "source": [
    "rf = RandomForestClassifier(random_state=8,n_estimators=100,criterion='gini',max_depth=5)\n",
    "print(cross_val_score(rf,X,y,scoring='precision',cv=kf).mean())\n",
    "print(cross_val_score(rf,X,y,scoring='recall',cv=kf).mean())"
   ]
  },
  {
   "cell_type": "code",
   "execution_count": 28,
   "metadata": {},
   "outputs": [
    {
     "data": {
      "text/plain": [
       "[('War', 0.002584435124775278),\n",
       " ('country_France', 0.003272198712523027),\n",
       " ('History', 0.005600986361308481),\n",
       " ('rating_andre', 0.009489706945171941),\n",
       " ('Documentary', 0.010881118146392341),\n",
       " ('country_UK', 0.013965501208746005),\n",
       " ('language_andre', 0.01448199547391179),\n",
       " ('Horror', 0.01845406902592091),\n",
       " ('Biography', 0.028238148979011998),\n",
       " ('starpower', 0.03299967538182821),\n",
       " ('Action', 0.055805320951089595),\n",
       " ('actor_1_fb', 0.06654920307504227),\n",
       " ('rating_PG-13', 0.0795255722944759),\n",
       " ('actor_2_fb', 0.08049345408767287),\n",
       " ('actor_3_fb', 0.10178454678788876),\n",
       " ('director_fb', 0.14838664837148222),\n",
       " ('runtime', 0.15623352682185174),\n",
       " ('budget', 0.17125389225090668)]"
      ]
     },
     "execution_count": 28,
     "metadata": {},
     "output_type": "execute_result"
    }
   ],
   "source": [
    "rf.fit(X,y)\n",
    "sorted(list(zip(X.columns,rf.feature_importances_)), key = lambda x : x[1])"
   ]
  },
  {
   "cell_type": "markdown",
   "metadata": {},
   "source": [
    "As we see in the next three cells, dropping the least important feature doesn't help."
   ]
  },
  {
   "cell_type": "code",
   "execution_count": 29,
   "metadata": {},
   "outputs": [
    {
     "data": {
      "text/plain": [
       "{'max_depth': 3, 'criterion': 'entropy'}"
      ]
     },
     "execution_count": 29,
     "metadata": {},
     "output_type": "execute_result"
    }
   ],
   "source": [
    "rf_gridsearch = RandomForestClassifier(n_estimators=100,random_state=8)\n",
    "rando = RandomizedSearchCV(rf_gridsearch,param_distributions=rf_params,n_iter=40,scoring='precision',\n",
    "                               random_state=8,cv=kf)\n",
    "rando = rando.fit(X.drop('War',axis=1),y)\n",
    "rando.best_params_"
   ]
  },
  {
   "cell_type": "code",
   "execution_count": 30,
   "metadata": {},
   "outputs": [
    {
     "name": "stdout",
     "output_type": "stream",
     "text": [
      "0.7093289857414431\n",
      "0.5251132767755547\n"
     ]
    }
   ],
   "source": [
    "rf = RandomForestClassifier(random_state=8,n_estimators=100,criterion='entropy',max_depth=3)\n",
    "print(cross_val_score(rf,X.drop('War',axis=1),y,scoring='precision',cv=kf).mean())\n",
    "print(cross_val_score(rf,X.drop('War',axis=1),y,scoring='recall',cv=kf).mean())"
   ]
  },
  {
   "cell_type": "markdown",
   "metadata": {},
   "source": [
    "Here I get rid of 'starpower' (the 7th most important). Still little change, so we'll keep our first model."
   ]
  },
  {
   "cell_type": "code",
   "execution_count": 31,
   "metadata": {},
   "outputs": [
    {
     "data": {
      "text/plain": [
       "{'max_depth': 1, 'criterion': 'entropy'}"
      ]
     },
     "execution_count": 31,
     "metadata": {},
     "output_type": "execute_result"
    }
   ],
   "source": [
    "rf_gridsearch = RandomForestClassifier(n_estimators=100,random_state=8)\n",
    "rando = RandomizedSearchCV(rf_gridsearch,param_distributions=rf_params,n_iter=40,scoring='precision',\n",
    "                               random_state=8,cv=kf)\n",
    "rando = rando.fit(X.drop('actor_2_fb',axis=1),y)\n",
    "rando.best_params_"
   ]
  },
  {
   "cell_type": "code",
   "execution_count": 32,
   "metadata": {},
   "outputs": [
    {
     "name": "stdout",
     "output_type": "stream",
     "text": [
      "0.7132999370786727\n",
      "0.3465779853725276\n"
     ]
    }
   ],
   "source": [
    "rf = RandomForestClassifier(random_state=8,n_estimators=100,criterion='entropy',max_depth=1)\n",
    "print(cross_val_score(rf,X.drop('actor_2_fb',axis=1),y,scoring='precision',cv=kf).mean())\n",
    "print(cross_val_score(rf,X.drop('actor_2_fb',axis=1),y,scoring='recall',cv=kf).mean())"
   ]
  },
  {
   "cell_type": "markdown",
   "metadata": {},
   "source": [
    "### KNeighbours\n",
    "High precision/low recall : .97,.01 <br />\n",
    "With a minimum recall : .74, .35"
   ]
  },
  {
   "cell_type": "code",
   "execution_count": 33,
   "metadata": {},
   "outputs": [],
   "source": [
    "knn_params = {'n_neighbors':list(range(1,1501)),'weights':['uniform','distance']}"
   ]
  },
  {
   "cell_type": "code",
   "execution_count": 34,
   "metadata": {},
   "outputs": [
    {
     "name": "stderr",
     "output_type": "stream",
     "text": [
      "/anaconda3/lib/python3.7/site-packages/sklearn/metrics/classification.py:1143: UndefinedMetricWarning: Precision is ill-defined and being set to 0.0 due to no predicted samples.\n",
      "  'precision', 'predicted', average, warn_for)\n",
      "/anaconda3/lib/python3.7/site-packages/sklearn/metrics/classification.py:1143: UndefinedMetricWarning: Precision is ill-defined and being set to 0.0 due to no predicted samples.\n",
      "  'precision', 'predicted', average, warn_for)\n",
      "/anaconda3/lib/python3.7/site-packages/sklearn/metrics/classification.py:1143: UndefinedMetricWarning: Precision is ill-defined and being set to 0.0 due to no predicted samples.\n",
      "  'precision', 'predicted', average, warn_for)\n",
      "/anaconda3/lib/python3.7/site-packages/sklearn/metrics/classification.py:1143: UndefinedMetricWarning: Precision is ill-defined and being set to 0.0 due to no predicted samples.\n",
      "  'precision', 'predicted', average, warn_for)\n",
      "/anaconda3/lib/python3.7/site-packages/sklearn/metrics/classification.py:1143: UndefinedMetricWarning: Precision is ill-defined and being set to 0.0 due to no predicted samples.\n",
      "  'precision', 'predicted', average, warn_for)\n",
      "/anaconda3/lib/python3.7/site-packages/sklearn/metrics/classification.py:1143: UndefinedMetricWarning: Precision is ill-defined and being set to 0.0 due to no predicted samples.\n",
      "  'precision', 'predicted', average, warn_for)\n",
      "/anaconda3/lib/python3.7/site-packages/sklearn/model_selection/_search.py:841: DeprecationWarning: The default of the `iid` parameter will change from True to False in version 0.22 and will be removed in 0.24. This will change numeric results when test-set sizes are unequal.\n",
      "  DeprecationWarning)\n"
     ]
    },
    {
     "data": {
      "text/plain": [
       "{'weights': 'uniform', 'n_neighbors': 1321}"
      ]
     },
     "execution_count": 34,
     "metadata": {},
     "output_type": "execute_result"
    }
   ],
   "source": [
    "knn_gridsearch = KNeighborsClassifier()\n",
    "rando = RandomizedSearchCV(knn_gridsearch,param_distributions=knn_params,n_iter=100,scoring='precision',\n",
    "                               random_state=8,cv=kf)\n",
    "rando = rando.fit(X_scaled,y)\n",
    "rando.best_params_"
   ]
  },
  {
   "cell_type": "code",
   "execution_count": 35,
   "metadata": {},
   "outputs": [
    {
     "name": "stdout",
     "output_type": "stream",
     "text": [
      "0.9722222222222222\n",
      "0.011972733157881332\n"
     ]
    }
   ],
   "source": [
    "knn = KNeighborsClassifier(n_neighbors=1321,weights='uniform')\n",
    "print(cross_val_score(knn,X_scaled,y,scoring='precision',cv=kf).mean())\n",
    "print(cross_val_score(knn,X_scaled,y,scoring='recall',cv=kf).mean())"
   ]
  },
  {
   "cell_type": "markdown",
   "metadata": {},
   "source": [
    "Here I try many knns in order to try to then find one with an acceptable recall."
   ]
  },
  {
   "cell_type": "code",
   "execution_count": 36,
   "metadata": {},
   "outputs": [
    {
     "name": "stdout",
     "output_type": "stream",
     "text": [
      "1501\n"
     ]
    },
    {
     "name": "stderr",
     "output_type": "stream",
     "text": [
      "/anaconda3/lib/python3.7/site-packages/sklearn/metrics/classification.py:1143: UndefinedMetricWarning: Precision is ill-defined and being set to 0.0 due to no predicted samples.\n",
      "  'precision', 'predicted', average, warn_for)\n",
      "/anaconda3/lib/python3.7/site-packages/sklearn/metrics/classification.py:1143: UndefinedMetricWarning: Precision is ill-defined and being set to 0.0 due to no predicted samples.\n",
      "  'precision', 'predicted', average, warn_for)\n"
     ]
    }
   ],
   "source": [
    "precisions = []\n",
    "recalls = []\n",
    "for i in range(1,1502,10) :\n",
    "    clear_output()\n",
    "    print(i)\n",
    "    knn=KNeighborsClassifier(n_neighbors=i,weights='uniform')\n",
    "    precisions.append(cross_val_score(knn,X_scaled,y,scoring='precision',cv=kf))\n",
    "    recalls.append(cross_val_score(knn,X_scaled,y,scoring='recall',cv=kf))"
   ]
  },
  {
   "cell_type": "code",
   "execution_count": 37,
   "metadata": {},
   "outputs": [],
   "source": [
    "p_means = [x.mean() for x in precisions]\n",
    "r_means = [x.mean() for x in recalls]"
   ]
  },
  {
   "cell_type": "code",
   "execution_count": 38,
   "metadata": {},
   "outputs": [
    {
     "data": {
      "text/plain": [
       "<matplotlib.legend.Legend at 0x1a1b899c88>"
      ]
     },
     "execution_count": 38,
     "metadata": {},
     "output_type": "execute_result"
    },
    {
     "data": {
      "image/png": "[encoded data removed]",
      "text/plain": [
       "<Figure size 432x288 with 1 Axes>"
      ]
     },
     "metadata": {
      "needs_background": "light"
     },
     "output_type": "display_data"
    }
   ],
   "source": [
    "plt.plot(r_means,p_means,label='precision')\n",
    "plt.plot([0,.67],[.67,.67])\n",
    "plt.plot([.35,.35],[.5,1])\n",
    "plt.legend()"
   ]
  },
  {
   "cell_type": "markdown",
   "metadata": {},
   "source": [
    "Narrowing the range for the acceptable recall boundary."
   ]
  },
  {
   "cell_type": "code",
   "execution_count": 39,
   "metadata": {},
   "outputs": [
    {
     "data": {
      "image/png": "[encoded data removed]",
      "text/plain": [
       "<Figure size 432x288 with 1 Axes>"
      ]
     },
     "metadata": {
      "needs_background": "light"
     },
     "output_type": "display_data"
    }
   ],
   "source": [
    "plt.plot(list(range(1,1502,10)),r_means,label='recall')\n",
    "plt.plot([0,1501],[.35,.35]);"
   ]
  },
  {
   "cell_type": "code",
   "execution_count": 51,
   "metadata": {},
   "outputs": [],
   "source": [
    "prec = 1000\n",
    "recall = 1000\n",
    "neighbors = 1000\n",
    "for i in range(450,476) :\n",
    "    knn=KNeighborsClassifier(n_neighbors=i,weights='uniform')\n",
    "    recall_t = cross_val_score(knn,X_scaled,y,scoring='recall',cv=kf).mean()\n",
    "    if recall_t >= .35 :\n",
    "        prec = cross_val_score(knn,X_scaled,y,scoring='precision',cv=kf).mean()\n",
    "        recall = cross_val_score(knn,X_scaled,y,scoring='recall',cv=kf).mean()\n",
    "        neighbors=i\n",
    "    elif recall<.35 :\n",
    "        break"
   ]
  },
  {
   "cell_type": "markdown",
   "metadata": {},
   "source": [
    "Now that we've gone up to the very last neighbours option with a recall greater than .35, let's see what that number is."
   ]
  },
  {
   "cell_type": "code",
   "execution_count": 53,
   "metadata": {},
   "outputs": [
    {
     "name": "stdout",
     "output_type": "stream",
     "text": [
      "463\n"
     ]
    }
   ],
   "source": [
    "print(neighbors)"
   ]
  },
  {
   "cell_type": "code",
   "execution_count": 54,
   "metadata": {},
   "outputs": [
    {
     "name": "stdout",
     "output_type": "stream",
     "text": [
      "0.7409368159800737\n",
      "0.3503519432789438\n"
     ]
    }
   ],
   "source": [
    "knn = KNeighborsClassifier(n_neighbors=463,weights='uniform')\n",
    "print(cross_val_score(knn,X_scaled,y,scoring='precision',cv=kf).mean())\n",
    "print(cross_val_score(knn,X_scaled,y,scoring='recall',cv=kf).mean())"
   ]
  },
  {
   "cell_type": "markdown",
   "metadata": {},
   "source": [
    "### Logistic Regression\n",
    "Precision = .68 <br />\n",
    "Recall = .52"
   ]
  },
  {
   "cell_type": "code",
   "execution_count": 55,
   "metadata": {},
   "outputs": [],
   "source": [
    "lr_params = {'solver':['saga','lbfgs'],'C':np.linspace(1e-7,100,101),'tol':np.linspace(1e-7,100,101)}"
   ]
  },
  {
   "cell_type": "code",
   "execution_count": 56,
   "metadata": {},
   "outputs": [
    {
     "name": "stderr",
     "output_type": "stream",
     "text": [
      "/anaconda3/lib/python3.7/site-packages/sklearn/linear_model/sag.py:334: ConvergenceWarning: The max_iter was reached which means the coef_ did not converge\n",
      "  \"the coef_ did not converge\", ConvergenceWarning)\n",
      "/anaconda3/lib/python3.7/site-packages/sklearn/linear_model/sag.py:334: ConvergenceWarning: The max_iter was reached which means the coef_ did not converge\n",
      "  \"the coef_ did not converge\", ConvergenceWarning)\n",
      "/anaconda3/lib/python3.7/site-packages/sklearn/linear_model/sag.py:334: ConvergenceWarning: The max_iter was reached which means the coef_ did not converge\n",
      "  \"the coef_ did not converge\", ConvergenceWarning)\n",
      "/anaconda3/lib/python3.7/site-packages/sklearn/linear_model/sag.py:334: ConvergenceWarning: The max_iter was reached which means the coef_ did not converge\n",
      "  \"the coef_ did not converge\", ConvergenceWarning)\n"
     ]
    },
    {
     "data": {
      "text/plain": [
       "{'tol': 35.000000065, 'solver': 'saga', 'C': 91.00000000899999}"
      ]
     },
     "execution_count": 56,
     "metadata": {},
     "output_type": "execute_result"
    }
   ],
   "source": [
    "lr_gridsearch = LogisticRegression(random_state=8)\n",
    "rando = RandomizedSearchCV(lr_gridsearch,param_distributions=lr_params,n_iter=100,scoring='precision',\n",
    "                               random_state=8,cv=kf)\n",
    "rando.fit(X_scaled,y)\n",
    "rando.best_params_"
   ]
  },
  {
   "cell_type": "code",
   "execution_count": 57,
   "metadata": {},
   "outputs": [
    {
     "name": "stdout",
     "output_type": "stream",
     "text": [
      "0.6751385123648289\n",
      "0.5236187800139591\n"
     ]
    }
   ],
   "source": [
    "lr = LogisticRegression(tol=35,C=91,solver='saga',random_state=8)\n",
    "print(cross_val_score(lr,X_scaled,y,scoring='precision',cv=kf).mean())\n",
    "print(cross_val_score(lr,X_scaled,y,scoring='recall',cv=kf).mean())"
   ]
  },
  {
   "cell_type": "code",
   "execution_count": 58,
   "metadata": {},
   "outputs": [
    {
     "data": {
      "text/plain": [
       "[('rating_PG-13', -0.19805383937816445),\n",
       " ('Action', -0.19122261210732552),\n",
       " ('Horror', -0.10069389689795351),\n",
       " ('actor_1_fb', 0.018977092853438363),\n",
       " ('actor_3_fb', 0.020017889704160463),\n",
       " ('War', 0.027706081137366938),\n",
       " ('country_France', 0.03750113921275736),\n",
       " ('starpower', 0.04174470576212729),\n",
       " ('History', 0.04514162217172559),\n",
       " ('actor_2_fb', 0.04739422673806859),\n",
       " ('budget', 0.05602403508981927),\n",
       " ('Biography', 0.07996859396550125),\n",
       " ('rating_andre', 0.12039471661188653),\n",
       " ('country_UK', 0.12130735793582921),\n",
       " ('language_andre', 0.13945486715861072),\n",
       " ('Documentary', 0.1518002915621593),\n",
       " ('director_fb', 0.16223900012936376),\n",
       " ('runtime', 0.17056288592572333)]"
      ]
     },
     "execution_count": 58,
     "metadata": {},
     "output_type": "execute_result"
    }
   ],
   "source": [
    "lr.fit(X_scaled,y)\n",
    "sorted(list(zip(X.columns,lr.coef_[0])),key = lambda x : x[1])"
   ]
  },
  {
   "cell_type": "markdown",
   "metadata": {},
   "source": [
    "Here I try dropping the least impactful feature, as rated above. I did this for a few of the lowest ones and found that they all failed to increase the precision and lowered the accuracy, so this is not a good change."
   ]
  },
  {
   "cell_type": "code",
   "execution_count": 59,
   "metadata": {},
   "outputs": [
    {
     "name": "stderr",
     "output_type": "stream",
     "text": [
      "/anaconda3/lib/python3.7/site-packages/sklearn/preprocessing/data.py:625: DataConversionWarning: Data with input dtype uint8, float64 were all converted to float64 by StandardScaler.\n",
      "  return self.partial_fit(X, y)\n",
      "/anaconda3/lib/python3.7/site-packages/sklearn/base.py:462: DataConversionWarning: Data with input dtype uint8, float64 were all converted to float64 by StandardScaler.\n",
      "  return self.fit(X, **fit_params).transform(X)\n"
     ]
    }
   ],
   "source": [
    "X_dropping = X.drop(['rating_PG-13'],axis=1)\n",
    "X_scaled_dropping = scaler.fit_transform(X_dropping)"
   ]
  },
  {
   "cell_type": "code",
   "execution_count": 60,
   "metadata": {},
   "outputs": [
    {
     "name": "stderr",
     "output_type": "stream",
     "text": [
      "/anaconda3/lib/python3.7/site-packages/sklearn/linear_model/sag.py:334: ConvergenceWarning: The max_iter was reached which means the coef_ did not converge\n",
      "  \"the coef_ did not converge\", ConvergenceWarning)\n",
      "/anaconda3/lib/python3.7/site-packages/sklearn/linear_model/sag.py:334: ConvergenceWarning: The max_iter was reached which means the coef_ did not converge\n",
      "  \"the coef_ did not converge\", ConvergenceWarning)\n",
      "/anaconda3/lib/python3.7/site-packages/sklearn/linear_model/sag.py:334: ConvergenceWarning: The max_iter was reached which means the coef_ did not converge\n",
      "  \"the coef_ did not converge\", ConvergenceWarning)\n",
      "/anaconda3/lib/python3.7/site-packages/sklearn/linear_model/sag.py:334: ConvergenceWarning: The max_iter was reached which means the coef_ did not converge\n",
      "  \"the coef_ did not converge\", ConvergenceWarning)\n"
     ]
    },
    {
     "data": {
      "text/plain": [
       "{'tol': 60.00000004, 'solver': 'lbfgs', 'C': 10.00000009}"
      ]
     },
     "execution_count": 60,
     "metadata": {},
     "output_type": "execute_result"
    }
   ],
   "source": [
    "lr_gridsearch = LogisticRegression(random_state=8)\n",
    "rando = RandomizedSearchCV(lr_gridsearch,param_distributions=lr_params,n_iter=100,scoring='precision',\n",
    "                               random_state=8,cv=kf)\n",
    "rando.fit(X_scaled_dropping,y)\n",
    "rando.best_params_"
   ]
  },
  {
   "cell_type": "code",
   "execution_count": 61,
   "metadata": {},
   "outputs": [
    {
     "name": "stdout",
     "output_type": "stream",
     "text": [
      "0.6795811703262066\n",
      "0.4825176125221776\n"
     ]
    }
   ],
   "source": [
    "lr = LogisticRegression(tol=60,C=10,solver='lbfgs',random_state=8)\n",
    "print(cross_val_score(lr,X_scaled_dropping,y,scoring='precision',cv=kf).mean())\n",
    "print(cross_val_score(lr,X_scaled_dropping,y,scoring='recall',cv=kf).mean())"
   ]
  },
  {
   "cell_type": "markdown",
   "metadata": {},
   "source": [
    "### Naive Bayes (Bernoulli)\n",
    "Precision = .6 <br />\n",
    "Recall = .68"
   ]
  },
  {
   "cell_type": "code",
   "execution_count": 34,
   "metadata": {},
   "outputs": [
    {
     "data": {
      "text/plain": [
       "Index(['runtime', 'director_fb', 'actor_1_fb', 'actor_2_fb', 'actor_3_fb',\n",
       "       'budget', 'Action', 'Biography', 'Documentary', 'History', 'Horror',\n",
       "       'War', 'rating_PG-13', 'rating_andre', 'language_andre',\n",
       "       'country_France', 'country_UK', 'starpower'],\n",
       "      dtype='object')"
      ]
     },
     "execution_count": 34,
     "metadata": {},
     "output_type": "execute_result"
    }
   ],
   "source": [
    "X.columns"
   ]
  },
  {
   "cell_type": "code",
   "execution_count": 35,
   "metadata": {},
   "outputs": [
    {
     "name": "stdout",
     "output_type": "stream",
     "text": [
      "0.6019660434478092\n",
      "0.6755653656806531\n"
     ]
    }
   ],
   "source": [
    "nbb = BernoulliNB()\n",
    "print(cross_val_score(nbb,X.loc[:,['Action','Documentary','History','Horror','rating_PG-13','language_andre','country_France']],y,scoring='precision',cv=kf).mean())\n",
    "print(cross_val_score(nbb,X.loc[:,['Action','Documentary','History','Horror','rating_PG-13','language_andre','country_France']],y,scoring='recall',cv=kf).mean())"
   ]
  },
  {
   "cell_type": "code",
   "execution_count": 36,
   "metadata": {},
   "outputs": [
    {
     "name": "stdout",
     "output_type": "stream",
     "text": [
      "0.58178573063009\n",
      "0.48321334824495493\n"
     ]
    }
   ],
   "source": [
    "nbb = BernoulliNB()\n",
    "print(cross_val_score(nbb,X.loc[:,['Action','Biography','War']],y,scoring='precision',cv=kf).mean())\n",
    "print(cross_val_score(nbb,X.loc[:,['Action','Biography','War']],y,scoring='recall',cv=kf).mean())"
   ]
  },
  {
   "cell_type": "code",
   "execution_count": 37,
   "metadata": {},
   "outputs": [
    {
     "data": {
      "text/plain": [
       "BernoulliNB(alpha=1.0, binarize=0.0, class_prior=None, fit_prior=True)"
      ]
     },
     "execution_count": 37,
     "metadata": {},
     "output_type": "execute_result"
    }
   ],
   "source": [
    "nbb.fit(X.loc[:,['Action','Documentary','History','Horror','rating_PG-13','language_andre','country_France']],y)"
   ]
  },
  {
   "cell_type": "markdown",
   "metadata": {},
   "source": [
    "### Naive Bayes (Gaussian)\n",
    "Precision = .72 <br />\n",
    "Recall = .16"
   ]
  },
  {
   "cell_type": "code",
   "execution_count": 38,
   "metadata": {},
   "outputs": [
    {
     "name": "stdout",
     "output_type": "stream",
     "text": [
      "0.7131479523921385\n",
      "0.16130211066889139\n"
     ]
    }
   ],
   "source": [
    "X_selection = X.loc[:,['runtime','director_fb']]\n",
    "X_scaled = scaler.fit_transform(X_selection)\n",
    "nbg = GaussianNB()\n",
    "print(cross_val_score(nbg,X_scaled,y,scoring='precision',cv=kf).mean())\n",
    "print(cross_val_score(nbg,X_scaled,y,scoring='recall',cv=kf).mean())"
   ]
  },
  {
   "cell_type": "code",
   "execution_count": 39,
   "metadata": {},
   "outputs": [
    {
     "data": {
      "text/plain": [
       "GaussianNB(priors=None, var_smoothing=1e-09)"
      ]
     },
     "execution_count": 39,
     "metadata": {},
     "output_type": "execute_result"
    }
   ],
   "source": [
    "X_selection = X.loc[:,['runtime','director_fb']]\n",
    "X_scaled = scaler.fit_transform(X_selection)\n",
    "\n",
    "nbg.fit(X_scaled,y)"
   ]
  },
  {
   "cell_type": "markdown",
   "metadata": {},
   "source": [
    "### Naive Bayes (Ensembled)\n",
    "Because why not both? <br />\n",
    "The best method, we see, is stacking because of its high recall. <br />\n",
    ".68,.54"
   ]
  },
  {
   "cell_type": "code",
   "execution_count": 40,
   "metadata": {},
   "outputs": [
    {
     "name": "stdout",
     "output_type": "stream",
     "text": [
      "0.7221878927597329\n",
      "0.3299059857416774\n"
     ]
    },
    {
     "name": "stderr",
     "output_type": "stream",
     "text": [
      "/anaconda3/lib/python3.7/site-packages/sklearn/preprocessing/data.py:625: DataConversionWarning: Data with input dtype uint8, float64 were all converted to float64 by StandardScaler.\n",
      "  return self.partial_fit(X, y)\n",
      "/anaconda3/lib/python3.7/site-packages/sklearn/base.py:462: DataConversionWarning: Data with input dtype uint8, float64 were all converted to float64 by StandardScaler.\n",
      "  return self.fit(X, **fit_params).transform(X)\n"
     ]
    }
   ],
   "source": [
    "X_scaled = scaler.fit_transform(X)\n",
    "estimators = [('nbg',nbg),('nbb',nbb)]\n",
    "nb_vote = VotingClassifier(estimators=estimators,voting='hard')\n",
    "print(cross_val_score(nb_vote,X_scaled,y,scoring='precision',cv=kf).mean())\n",
    "print(cross_val_score(nb_vote,X_scaled,y,scoring='recall',cv=kf).mean())"
   ]
  },
  {
   "cell_type": "code",
   "execution_count": 41,
   "metadata": {},
   "outputs": [
    {
     "name": "stdout",
     "output_type": "stream",
     "text": [
      "0.691239014462327\n",
      "0.5030174522090723\n"
     ]
    },
    {
     "name": "stderr",
     "output_type": "stream",
     "text": [
      "/anaconda3/lib/python3.7/site-packages/sklearn/preprocessing/data.py:625: DataConversionWarning: Data with input dtype uint8, float64 were all converted to float64 by StandardScaler.\n",
      "  return self.partial_fit(X, y)\n",
      "/anaconda3/lib/python3.7/site-packages/sklearn/base.py:462: DataConversionWarning: Data with input dtype uint8, float64 were all converted to float64 by StandardScaler.\n",
      "  return self.fit(X, **fit_params).transform(X)\n"
     ]
    }
   ],
   "source": [
    "X_scaled = scaler.fit_transform(X)\n",
    "estimators = [('nbg',nbg),('nbb',nbb)]\n",
    "nb_vote = VotingClassifier(estimators=estimators,weights=[.25,1.15],voting='soft')\n",
    "print(cross_val_score(nb_vote,X_scaled,y,scoring='precision',cv=kf).mean())\n",
    "print(cross_val_score(nb_vote,X_scaled,y,scoring='recall',cv=kf).mean())"
   ]
  },
  {
   "cell_type": "code",
   "execution_count": 42,
   "metadata": {},
   "outputs": [
    {
     "name": "stdout",
     "output_type": "stream",
     "text": [
      "0.6800319851262823\n",
      "0.5438023084694007\n"
     ]
    }
   ],
   "source": [
    "nb_stack = StackingClassifier(classifiers=[nbb],meta_classifier=nbg)\n",
    "print(cross_val_score(nb_stack,X_scaled,y,scoring='precision',cv=kf).mean())\n",
    "print(cross_val_score(nb_stack,X_scaled,y,scoring='recall',cv=kf).mean())"
   ]
  },
  {
   "cell_type": "markdown",
   "metadata": {},
   "source": [
    "### AT THIS POINT\n",
    "Best models : Random Forest (71,57), EnsembledNB(68,54) <br />\n",
    "Secondary, okay models : Logistic Regression (68,52), KNN (97,1), KNN (74,35) <br />\n",
    "Not run models : SVM <br />\n",
    "\n",
    "Og så kan vi ser om (and so can we see if) mixing the models is better! And ultimately, yes in the case of a few meta-classifiers."
   ]
  },
  {
   "cell_type": "code",
   "execution_count": 5,
   "metadata": {},
   "outputs": [],
   "source": [
    "from sklearn.ensemble import VotingClassifier\n",
    "from mlxtend.classifier import StackingClassifier"
   ]
  },
  {
   "cell_type": "code",
   "execution_count": 44,
   "metadata": {},
   "outputs": [
    {
     "name": "stderr",
     "output_type": "stream",
     "text": [
      "/anaconda3/lib/python3.7/site-packages/sklearn/preprocessing/data.py:625: DataConversionWarning: Data with input dtype uint8, float64 were all converted to float64 by StandardScaler.\n",
      "  return self.partial_fit(X, y)\n",
      "/anaconda3/lib/python3.7/site-packages/sklearn/base.py:462: DataConversionWarning: Data with input dtype uint8, float64 were all converted to float64 by StandardScaler.\n",
      "  return self.fit(X, **fit_params).transform(X)\n"
     ]
    }
   ],
   "source": [
    "X_scaled = scaler.fit_transform(X)"
   ]
  },
  {
   "cell_type": "code",
   "execution_count": 7,
   "metadata": {},
   "outputs": [
    {
     "ename": "NameError",
     "evalue": "name 'nbb' is not defined",
     "output_type": "error",
     "traceback": [
      "\u001b[0;31m---------------------------------------------------------------------------\u001b[0m",
      "\u001b[0;31mNameError\u001b[0m                                 Traceback (most recent call last)",
      "\u001b[0;32m<ipython-input-7-1475177789ba>\u001b[0m in \u001b[0;36m<module>\u001b[0;34m\u001b[0m\n\u001b[1;32m      2\u001b[0m \u001b[0mknn_hp\u001b[0m \u001b[0;34m=\u001b[0m \u001b[0mKNeighborsClassifier\u001b[0m\u001b[0;34m(\u001b[0m\u001b[0mn_neighbors\u001b[0m\u001b[0;34m=\u001b[0m\u001b[0;36m1321\u001b[0m\u001b[0;34m,\u001b[0m\u001b[0mweights\u001b[0m\u001b[0;34m=\u001b[0m\u001b[0;34m'uniform'\u001b[0m\u001b[0;34m)\u001b[0m\u001b[0;34m\u001b[0m\u001b[0;34m\u001b[0m\u001b[0m\n\u001b[1;32m      3\u001b[0m \u001b[0mknn\u001b[0m \u001b[0;34m=\u001b[0m \u001b[0mKNeighborsClassifier\u001b[0m\u001b[0;34m(\u001b[0m\u001b[0mn_neighbors\u001b[0m\u001b[0;34m=\u001b[0m\u001b[0;36m463\u001b[0m\u001b[0;34m,\u001b[0m\u001b[0mweights\u001b[0m\u001b[0;34m=\u001b[0m\u001b[0;34m'uniform'\u001b[0m\u001b[0;34m)\u001b[0m\u001b[0;34m\u001b[0m\u001b[0;34m\u001b[0m\u001b[0m\n\u001b[0;32m----> 4\u001b[0;31m \u001b[0mnb\u001b[0m \u001b[0;34m=\u001b[0m \u001b[0mStackingClassifier\u001b[0m\u001b[0;34m(\u001b[0m\u001b[0mclassifiers\u001b[0m\u001b[0;34m=\u001b[0m\u001b[0;34m[\u001b[0m\u001b[0mnbb\u001b[0m\u001b[0;34m]\u001b[0m\u001b[0;34m,\u001b[0m\u001b[0mmeta_classifier\u001b[0m\u001b[0;34m=\u001b[0m\u001b[0mnbg\u001b[0m\u001b[0;34m)\u001b[0m\u001b[0;34m\u001b[0m\u001b[0;34m\u001b[0m\u001b[0m\n\u001b[0m\u001b[1;32m      5\u001b[0m \u001b[0mlr\u001b[0m \u001b[0;34m=\u001b[0m \u001b[0mLogisticRegression\u001b[0m\u001b[0;34m(\u001b[0m\u001b[0mtol\u001b[0m\u001b[0;34m=\u001b[0m\u001b[0;36m35\u001b[0m\u001b[0;34m,\u001b[0m\u001b[0mC\u001b[0m\u001b[0;34m=\u001b[0m\u001b[0;36m91\u001b[0m\u001b[0;34m,\u001b[0m\u001b[0msolver\u001b[0m\u001b[0;34m=\u001b[0m\u001b[0;34m'saga'\u001b[0m\u001b[0;34m,\u001b[0m\u001b[0mrandom_state\u001b[0m\u001b[0;34m=\u001b[0m\u001b[0;36m8\u001b[0m\u001b[0;34m)\u001b[0m\u001b[0;34m\u001b[0m\u001b[0;34m\u001b[0m\u001b[0m\n",
      "\u001b[0;31mNameError\u001b[0m: name 'nbb' is not defined"
     ]
    }
   ],
   "source": [
    "rf = RandomForestClassifier(random_state=8,n_estimators=100,criterion='gini',max_depth=5)\n",
    "knn_hp = KNeighborsClassifier(n_neighbors=1321,weights='uniform')\n",
    "knn = KNeighborsClassifier(n_neighbors=463,weights='uniform')\n",
    "nb = StackingClassifier(classifiers=[nbb],meta_classifier=nbg)\n",
    "lr = LogisticRegression(tol=35,C=91,solver='saga',random_state=8)"
   ]
  },
  {
   "cell_type": "code",
   "execution_count": 137,
   "metadata": {},
   "outputs": [],
   "source": [
    "final_estimators = [('rf',rf),\n",
    "             ('knn',knn),\n",
    "             ('nb',nb),\n",
    "             ('lr',lr),\n",
    "             ('knn_hp',knn_hp)]"
   ]
  },
  {
   "cell_type": "code",
   "execution_count": 144,
   "metadata": {},
   "outputs": [
    {
     "name": "stdout",
     "output_type": "stream",
     "text": [
      "0.7506767274030235\n",
      "0.41987734410334765\n"
     ]
    }
   ],
   "source": [
    "vclass = VotingClassifier(estimators=final_estimators,voting='hard',weights=[4,2,2,2,2])\n",
    "print(cross_val_score(vclass,X_scaled,y,scoring='precision',cv=kf).mean())\n",
    "print(cross_val_score(vclass,X_scaled,y,scoring='recall',cv=kf).mean())"
   ]
  },
  {
   "cell_type": "code",
   "execution_count": 179,
   "metadata": {},
   "outputs": [
    {
     "name": "stdout",
     "output_type": "stream",
     "text": [
      "0.7404006861786747\n",
      "0.4976319084331108\n"
     ]
    }
   ],
   "source": [
    "vclass = VotingClassifier(estimators=final_estimators,weights=[16,15,2,2,2],voting='soft')\n",
    "print(cross_val_score(vclass,X_scaled,y,scoring='precision',cv=kf).mean())\n",
    "print(cross_val_score(vclass,X_scaled,y,scoring='recall',cv=kf).mean())"
   ]
  },
  {
   "cell_type": "code",
   "execution_count": 70,
   "metadata": {},
   "outputs": [],
   "source": [
    "estimators = [rf,knn,nb,lr]"
   ]
  },
  {
   "cell_type": "code",
   "execution_count": 71,
   "metadata": {},
   "outputs": [
    {
     "name": "stdout",
     "output_type": "stream",
     "text": [
      "0.6923307570060714\n",
      "0.613773480358712\n"
     ]
    }
   ],
   "source": [
    "sclass = StackingClassifier(classifiers=estimators,\n",
    "                            meta_classifier=rf,\n",
    "                            use_probas=True)\n",
    "print(cross_val_score(sclass,X_scaled,y,scoring='precision',cv=kf).mean())\n",
    "print(cross_val_score(sclass,X_scaled,y,scoring='recall',cv=kf).mean())"
   ]
  },
  {
   "cell_type": "code",
   "execution_count": 101,
   "metadata": {},
   "outputs": [],
   "source": [
    "estimators = [rf,knn,nb,lr]"
   ]
  },
  {
   "cell_type": "code",
   "execution_count": 102,
   "metadata": {},
   "outputs": [
    {
     "name": "stdout",
     "output_type": "stream",
     "text": [
      "0.7061391690165661\n",
      "0.5808840480942571\n"
     ]
    }
   ],
   "source": [
    "sclass = StackingClassifier(classifiers=estimators,\n",
    "                            meta_classifier=rf,\n",
    "                            use_probas=False)\n",
    "print(cross_val_score(sclass,X_scaled,y,scoring='precision',cv=kf).mean())\n",
    "print(cross_val_score(sclass,X_scaled,y,scoring='recall',cv=kf).mean())"
   ]
  },
  {
   "cell_type": "markdown",
   "metadata": {},
   "source": [
    "### NOW TO DECIDE \n",
    "Better 70% precision and 61% recall or 74% precision and 50% recall? Ultimately, let's go with the one with the maximum recall, even though this has lower precision. In this case : The stacking classifier!"
   ]
  },
  {
   "cell_type": "code",
   "execution_count": 6,
   "metadata": {},
   "outputs": [
    {
     "ename": "NameError",
     "evalue": "name 'rf' is not defined",
     "output_type": "error",
     "traceback": [
      "\u001b[0;31m---------------------------------------------------------------------------\u001b[0m",
      "\u001b[0;31mNameError\u001b[0m                                 Traceback (most recent call last)",
      "\u001b[0;32m<ipython-input-6-f876fc63dfe6>\u001b[0m in \u001b[0;36m<module>\u001b[0;34m\u001b[0m\n\u001b[0;32m----> 1\u001b[0;31m \u001b[0mfinal_estimators\u001b[0m \u001b[0;34m=\u001b[0m \u001b[0;34m[\u001b[0m\u001b[0mrf\u001b[0m\u001b[0;34m,\u001b[0m\u001b[0mknn\u001b[0m\u001b[0;34m,\u001b[0m\u001b[0mnb\u001b[0m\u001b[0;34m,\u001b[0m\u001b[0mlr\u001b[0m\u001b[0;34m]\u001b[0m\u001b[0;34m\u001b[0m\u001b[0;34m\u001b[0m\u001b[0m\n\u001b[0m",
      "\u001b[0;31mNameError\u001b[0m: name 'rf' is not defined"
     ]
    }
   ],
   "source": [
    "final_estimators = [rf,knn,nb,lr]"
   ]
  },
  {
   "cell_type": "code",
   "execution_count": 109,
   "metadata": {},
   "outputs": [
    {
     "name": "stdout",
     "output_type": "stream",
     "text": [
      "0.6923307570060714\n",
      "0.613773480358712\n"
     ]
    }
   ],
   "source": [
    "final_mod = StackingClassifier(classifiers=estimators,\n",
    "                            meta_classifier=rf,\n",
    "                            use_probas=True)\n",
    "final_mod.fit(X_scaled,y)\n",
    "print(cross_val_score(final_mod,X_scaled,y,scoring='precision',cv=kf).mean())\n",
    "print(cross_val_score(final_mod,X_scaled,y,scoring='recall',cv=kf).mean())"
   ]
  },
  {
   "cell_type": "markdown",
   "metadata": {},
   "source": [
    "### Now we run this on our test data, and it's still pretty good!"
   ]
  },
  {
   "cell_type": "code",
   "execution_count": 110,
   "metadata": {},
   "outputs": [],
   "source": [
    "from sklearn.metrics import precision_score,recall_score"
   ]
  },
  {
   "cell_type": "code",
   "execution_count": 111,
   "metadata": {},
   "outputs": [
    {
     "name": "stderr",
     "output_type": "stream",
     "text": [
      "/anaconda3/lib/python3.7/site-packages/sklearn/preprocessing/data.py:625: DataConversionWarning: Data with input dtype uint8, float64 were all converted to float64 by StandardScaler.\n",
      "  return self.partial_fit(X, y)\n",
      "/anaconda3/lib/python3.7/site-packages/ipykernel_launcher.py:3: DataConversionWarning: Data with input dtype uint8, float64 were all converted to float64 by StandardScaler.\n",
      "  This is separate from the ipykernel package so we can avoid doing imports until\n"
     ]
    },
    {
     "name": "stdout",
     "output_type": "stream",
     "text": [
      "0.6823204419889503\n",
      "0.5839243498817966\n"
     ]
    }
   ],
   "source": [
    "X_t = test.drop('critic',axis=1)\n",
    "scaler.fit(X)\n",
    "X_t_scaled = scaler.transform(X_t)\n",
    "\n",
    "y_t = test['critic']\n",
    "y_pred = final_mod.predict(X_t_scaled)\n",
    "\n",
    "print(precision_score(y_t,y_pred))\n",
    "print(recall_score(y_t,y_pred))"
   ]
  },
  {
   "cell_type": "markdown",
   "metadata": {},
   "source": [
    "### Visualise it in a confusion matrix."
   ]
  },
  {
   "cell_type": "code",
   "execution_count": 112,
   "metadata": {},
   "outputs": [
    {
     "data": {
      "image/png": "[encoded data removed]",
      "text/plain": [
       "<Figure size 1800x1200 with 2 Axes>"
      ]
     },
     "metadata": {
      "needs_background": "light"
     },
     "output_type": "display_data"
    }
   ],
   "source": [
    "plt.figure(dpi=300)\n",
    "ax = sns.heatmap(confusion_matrix(y_t,y_pred),cmap=plt.cm.Greens,\n",
    "            annot=True,\n",
    "            fmt='g',\n",
    "            annot_kws = {'size':10},\n",
    "            square=True,\n",
    "            xticklabels=['Rotten','Fresh'],\n",
    "            yticklabels=['Rotten','Fresh'],\n",
    "                )\n",
    "ax.set_yticklabels(ax.get_yticklabels(),rotation=360)\n",
    "plt.xlabel('Predicted Rating')\n",
    "plt.ylabel('Actual Rating',rotation=360,labelpad=40)\n",
    "plt.title('Distribution of Predictions for Stacking Model',pad=20)\n",
    "plt.savefig('confusion_critic.svg');"
   ]
  },
  {
   "cell_type": "markdown",
   "metadata": {},
   "source": [
    "### Save things!"
   ]
  },
  {
   "cell_type": "code",
   "execution_count": 8,
   "metadata": {},
   "outputs": [],
   "source": [
    "import pickle"
   ]
  },
  {
   "cell_type": "code",
   "execution_count": 108,
   "metadata": {},
   "outputs": [],
   "source": [
    "with open(\"Models/final_critic.pkl\", \"wb\") as f:\n",
    "    pickle.dump(final_mod, f)"
   ]
  },
  {
   "cell_type": "code",
   "execution_count": 50,
   "metadata": {},
   "outputs": [
    {
     "ename": "FileNotFoundError",
     "evalue": "[Errno 2] No such file or directory: 'Models/critic_scaler.pkl'",
     "output_type": "error",
     "traceback": [
      "\u001b[0;31m---------------------------------------------------------------------------\u001b[0m",
      "\u001b[0;31mFileNotFoundError\u001b[0m                         Traceback (most recent call last)",
      "\u001b[0;32m<ipython-input-50-cf972938f75b>\u001b[0m in \u001b[0;36m<module>\u001b[0;34m\u001b[0m\n\u001b[0;32m----> 1\u001b[0;31m \u001b[0;32mwith\u001b[0m \u001b[0mopen\u001b[0m\u001b[0;34m(\u001b[0m\u001b[0;34m\"Models/critic_scaler.pkl\"\u001b[0m\u001b[0;34m,\u001b[0m \u001b[0;34m\"wb\"\u001b[0m\u001b[0;34m)\u001b[0m \u001b[0;32mas\u001b[0m \u001b[0mf\u001b[0m\u001b[0;34m:\u001b[0m\u001b[0;34m\u001b[0m\u001b[0;34m\u001b[0m\u001b[0m\n\u001b[0m\u001b[1;32m      2\u001b[0m     \u001b[0mpickle\u001b[0m\u001b[0;34m.\u001b[0m\u001b[0mdump\u001b[0m\u001b[0;34m(\u001b[0m\u001b[0mscaler\u001b[0m\u001b[0;34m,\u001b[0m \u001b[0mf\u001b[0m\u001b[0;34m)\u001b[0m\u001b[0;34m\u001b[0m\u001b[0;34m\u001b[0m\u001b[0m\n",
      "\u001b[0;31mFileNotFoundError\u001b[0m: [Errno 2] No such file or directory: 'Models/critic_scaler.pkl'"
     ]
    }
   ],
   "source": [
    "with open(\"Models/critic_scaler.pkl\", \"wb\") as f:\n",
    "    pickle.dump(scaler, f)"
   ]
  },
  {
   "cell_type": "code",
   "execution_count": null,
   "metadata": {},
   "outputs": [],
   "source": []
  }
 ],
 "metadata": {
  "kernelspec": {
   "display_name": "Python 3",
   "language": "python",
   "name": "python3"
  },
  "language_info": {
   "codemirror_mode": {
    "name": "ipython",
    "version": 3
   },
   "file_extension": ".py",
   "mimetype": "text/x-python",
   "name": "python",
   "nbconvert_exporter": "python",
   "pygments_lexer": "ipython3",
   "version": "3.7.1"
  }
 },
 "nbformat": 4,
 "nbformat_minor": 2
}
