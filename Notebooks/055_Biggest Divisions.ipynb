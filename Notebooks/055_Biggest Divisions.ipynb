{
 "cells": [
  {
   "cell_type": "markdown",
   "metadata": {},
   "source": [
    "## Detour notebook!\n",
    "Here I mostly wanted to look at differneces between audience and critic preferences."
   ]
  },
  {
   "cell_type": "code",
   "execution_count": 1,
   "metadata": {},
   "outputs": [],
   "source": [
    "import pandas as pd"
   ]
  },
  {
   "cell_type": "code",
   "execution_count": 2,
   "metadata": {},
   "outputs": [],
   "source": [
    "audience = pd.read_pickle('audience_table.pkl')['audience']"
   ]
  },
  {
   "cell_type": "code",
   "execution_count": 3,
   "metadata": {},
   "outputs": [],
   "source": [
    "critic = pd.read_pickle('critic_table.pkl')"
   ]
  },
  {
   "cell_type": "markdown",
   "metadata": {},
   "source": [
    "Add in the audience data."
   ]
  },
  {
   "cell_type": "code",
   "execution_count": 4,
   "metadata": {},
   "outputs": [],
   "source": [
    "critic['audience'] = (audience>60).astype(int)"
   ]
  },
  {
   "cell_type": "markdown",
   "metadata": {},
   "source": [
    "Get the features we've been working with."
   ]
  },
  {
   "cell_type": "code",
   "execution_count": 5,
   "metadata": {},
   "outputs": [],
   "source": [
    "num_genres = critic.loc[:,'Action':'Western'].sum(axis=1)\n",
    "num_genres = num_genres.rename('num_genres')\n",
    "critic_table = critic.join(num_genres)\n",
    "\n",
    "critic = pd.get_dummies(critic,columns = ['rating','decade','aspect_ratio','language','country'],drop_first=True)\n",
    "critic = critic.drop(['rating','year','genre','title'],axis=1,errors='ignore')\n",
    "\n",
    "critic['starpower'] = critic.post_face * (critic_table.actor_1_fb+critic_table.actor_2_fb+critic_table.actor_3_fb)"
   ]
  },
  {
   "cell_type": "markdown",
   "metadata": {},
   "source": [
    "Set critic to 1 where it is Fresh."
   ]
  },
  {
   "cell_type": "code",
   "execution_count": 6,
   "metadata": {},
   "outputs": [],
   "source": [
    "critic['critic'] = (critic>60).astype(int)"
   ]
  },
  {
   "cell_type": "markdown",
   "metadata": {},
   "source": [
    "Now let's look at all of our categoricals to see what makes a difference for critics but not audiences or vice versa!"
   ]
  },
  {
   "cell_type": "code",
   "execution_count": 8,
   "metadata": {},
   "outputs": [],
   "source": [
    "cate = ['Action', 'Adventure',\n",
    "       'Animation', 'Biography', 'Comedy', 'Crime', 'Documentary', 'Drama',\n",
    "       'Family', 'Fantasy', 'Film-Noir', 'Game-Show', 'History', 'Horror',\n",
    "       'Music', 'Musical', 'Mystery', 'News', 'Reality-TV', 'Romance',\n",
    "       'Sci-Fi', 'Short', 'Sport', 'Thriller', 'War', 'Western',\n",
    "       'rating_PG', 'rating_PG-13', 'rating_R', 'rating_andre', 'decade_10s',\n",
    "       'decade_70s', 'decade_80s', 'decade_90s', 'decade_old', 'decade_ukjent',\n",
    "       'aspect_ratio_2.35', 'aspect_ratio_other', 'language_andre',\n",
    "       'country_France', 'country_UK', 'country_USA', 'country_andre']"
   ]
  },
  {
   "cell_type": "markdown",
   "metadata": {},
   "source": [
    "Unexpectedly few things, and all genres."
   ]
  },
  {
   "cell_type": "code",
   "execution_count": 17,
   "metadata": {},
   "outputs": [
    {
     "name": "stdout",
     "output_type": "stream",
     "text": [
      "Music\n",
      "0.5404040404040404\n",
      "0.7121212121212122\n",
      "Musical\n",
      "0.5877192982456141\n",
      "0.7719298245614035\n",
      "Sport\n",
      "0.4785276073619632\n",
      "0.7239263803680982\n"
     ]
    }
   ],
   "source": [
    "genre_love = []\n",
    "for cat in cate :\n",
    "    category = critic[critic[cat]==1]\n",
    "    num_films = len(category)\n",
    "    \n",
    "    c_liked = len(category[category.critic==1])\n",
    "    c_percent_liked = c_liked/num_films\n",
    "    \n",
    "    a_liked = len(category[category.audience==1])\n",
    "    a_percent_liked = a_liked/num_films\n",
    "    \n",
    "    if len(critic[critic[cat]==1]) > 100 :\n",
    "        genre_love.append((cat,c_percent_liked,a_percent_liked))\n",
    "\n",
    "    if abs(c_percent_liked-a_percent_liked)>.15 :\n",
    "            print(cat)\n",
    "            print(c_percent_liked)\n",
    "            print(a_percent_liked)"
   ]
  },
  {
   "cell_type": "markdown",
   "metadata": {},
   "source": [
    "### Get a dataframe of the genre_love table so that we can save it and use it in visualisations."
   ]
  },
  {
   "cell_type": "code",
   "execution_count": 31,
   "metadata": {},
   "outputs": [],
   "source": [
    "df = pd.DataFrame(genre_love)"
   ]
  },
  {
   "cell_type": "markdown",
   "metadata": {},
   "source": [
    "I want to focus on the genres, not the other categoricals."
   ]
  },
  {
   "cell_type": "code",
   "execution_count": 24,
   "metadata": {},
   "outputs": [],
   "source": [
    "df = df.iloc[:20,:]"
   ]
  },
  {
   "cell_type": "code",
   "execution_count": 28,
   "metadata": {},
   "outputs": [],
   "source": [
    "df.to_csv('genre_loves.csv',header=False,index=False)"
   ]
  }
 ],
 "metadata": {
  "kernelspec": {
   "display_name": "Python 3",
   "language": "python",
   "name": "python3"
  },
  "language_info": {
   "codemirror_mode": {
    "name": "ipython",
    "version": 3
   },
   "file_extension": ".py",
   "mimetype": "text/x-python",
   "name": "python",
   "nbconvert_exporter": "python",
   "pygments_lexer": "ipython3",
   "version": "3.7.1"
  }
 },
 "nbformat": 4,
 "nbformat_minor": 2
}
